{
 "cells": [
  {
   "cell_type": "code",
   "execution_count": 95,
   "metadata": {},
   "outputs": [
    {
     "name": "stdout",
     "output_type": "stream",
     "text": [
      "<class 'numpy.ndarray'>\n"
     ]
    }
   ],
   "source": [
    "import fsps\n",
    "from matplotlib import pylab as plt\n",
    "import numpy as np\n",
    "from scipy.interpolate import interp1d\n",
    "np.set_printoptions(threshold=np.nan)\n",
    "from scipy import integrate\n",
    "import numpy as np\n",
    "import matplotlib.pyplot as plt\n",
    "from math import *\n",
    "from astropy.io import fits\n",
    "from astropy import units as u\n",
    "from astropy.coordinates import SkyCoord,Angle\n",
    "from astropy.cosmology import FlatLambdaCDM\n",
    "\n",
    "\n",
    "\n",
    "sed1 = np.loadtxt(\"wave_spec.txt\")\n",
    "filtertranf435w = np.loadtxt(\"filter_wfc_acs_f435w.txt\")\n",
    "filtertranf606w = np.loadtxt(\"filter_wfc_acs_f606w.txt\")\n",
    "filtertranf775w = np.loadtxt(\"filter_wfc_acs_f775w.txt\")\n",
    "filtertranf850lp = np.loadtxt(\"filter_wfc_acs_f850lp.txt\")\n",
    "filtertranf105w = np.loadtxt(\"filter_wfc3_ir_f105w.txt\")\n",
    "filtertranf160w = np.loadtxt(\"filter_wfc3_ir_f160w.txt\")\n",
    "filtertranf200w = np.loadtxt(\"filter_jwst_f200w.txt\")\n",
    "filtertranf277w = np.loadtxt(\"filter_jwst_f277w.txt\")\n",
    "filtertranf356w = np.loadtxt(\"filter_jwst_f356w.txt\")\n",
    "filtertranf444w = np.loadtxt(\"filter_jwst_f444w.txt\")\n",
    "\n",
    "\n",
    "\n",
    "wavecut = sed1[:,0]\n",
    "sedcut = sed1[:,1]\n",
    "filterwave = filtertran[:,0]\n",
    "filterspec = filtertran[:,1]\n",
    "#sedcut.astype(float)\n",
    "#mean = np.mean(sedcut)\n",
    "#print (mean)\n",
    "#print (type(wavecut))\n",
    "print (type(wavecut))"
   ]
  },
  {
   "cell_type": "code",
   "execution_count": 98,
   "metadata": {},
   "outputs": [
    {
     "name": "stdout",
     "output_type": "stream",
     "text": [
      "25.4170574681\n"
     ]
    }
   ],
   "source": [
    "class lambdafunc(object):\n",
    "    def update(self,wavelength,value,units):\n",
    "        if not len(wavelength)==len(value):\n",
    "            raise ValueError('The length of wavelength list does not equal to the length of value list')\n",
    "        else:\n",
    "            self.wavelength=np.array(wavelength)*float(1*units[0].cgs/u.Angstrom)\n",
    "            self.value=np.array(value)\n",
    "            self.units=[u.Angstrom.cgs,units[1].cgs]\n",
    "            self.interval=(np.append(self.wavelength,0)-np.append(0,self.wavelength))[1:-1]\n",
    "            self.midvalue=(np.append(self.value,0)+np.append(0,self.value))[1:-1]/2.0\n",
    "\n",
    "\n",
    "\n",
    "    def getvalue(self,x):\n",
    "        return np.interp(x,self.wavelength,self.value)\n",
    "\n",
    "    def plot(self):\n",
    "        plt.plot(self.wavelength,self.value)\n",
    "        plt.xlabel('Wavelength / $\\AA$',fontsize=16)\n",
    "        plt.ylabel('Arbitrary Unit',fontsize=16)\n",
    "        plt.show()\n",
    "\n",
    "\n",
    "class FiltCurve(lambdafunc):\n",
    "    def __init__(self,wavelength,value,units=[u.Angstrom,u.Quantity(1)]):\n",
    "        self.update(wavelength,value,units)\n",
    "\n",
    "\n",
    "class Spectrum(lambdafunc):\n",
    "    def __init__(self,wavelength,value,units=[u.Angstrom,u.erg/u.s/u.cm/u.cm/u.Angstrom],mode='OBS'):\n",
    "        self.update(wavelength,value,units)\n",
    "        self.mode=mode\n",
    "\n",
    "    def flux(self,filt):\n",
    "        newflux=self.getvalue(np.array(filt.wavelength*filt.units[0]/self.units[0]))\n",
    "        filtered_flux=newflux*filt.value\n",
    "\n",
    "\n",
    "        midflux=(np.append(filtered_flux,0)+np.append(0,filtered_flux))[1:-1]/2.0\n",
    "        interval=np.abs(filt.interval)\n",
    "\n",
    "        return np.sum(interval*midflux)*filt.units[0]*self.units[1]\n",
    "\n",
    "    def magnitude(self,filt,style='AB'):\n",
    "        '''\n",
    "        Calculate the magnitude in the input filter.\n",
    "        '''\n",
    "        ### Now, AB mag only ###\n",
    "\n",
    "        objflux=self.flux(filt)\n",
    "        stdspec=((3631*u.Jy).cgs*3e10*u.cm/u.s/((filt.wavelength*filt.units[0]).cgs)**2).to(self.units[1])\n",
    "\n",
    "        midstdspec=(np.append(stdspec,0)+np.append(0,stdspec))[1:-1]/2.0\n",
    "\n",
    "        interval=np.abs(filt.interval)\n",
    "        stdflux=np.sum(interval*midstdspec*filt.midvalue)*filt.units[0]*self.units[1]\n",
    "\n",
    "        mag=-2.5*np.log10(float(objflux/stdflux))\n",
    "        return mag\n",
    "\n",
    "    \n",
    "\n",
    "        self.mode='ABS'\n",
    "\n",
    "   \n",
    "\n",
    "    def normalize(self,filt,mag,style='AB'):\n",
    "        mag0=self.magnitude(filt,style)\n",
    "        scale=10**(0.4*(mag0-mag))\n",
    "\n",
    "        self.value=self.value*scale\n",
    "\n",
    "def main():\n",
    "    '''\n",
    "    An example.\n",
    "    '''\n",
    "\n",
    "    '''\n",
    "    Always follow:\n",
    "\n",
    "    Wavelength in angtrom.\n",
    "    Flux in erg s-1 cm-2 A-1\n",
    "    '''\n",
    "    \n",
    "\n",
    "    #input the filter\n",
    "    Filter = FiltCurve(filtertranf160w[:,0],filtertranf160w[:,1])\n",
    "  \n",
    "    #input the final spec and observed wavelength in angstroms\n",
    "    spec = Spectrum(wavecut, sedcut)\n",
    "    \n",
    "    mag = spec.magnitude(Filter)\n",
    "    print(mag)\n",
    "\n",
    "if __name__=='__main__':\n",
    "    main()\n"
   ]
  },
  {
   "cell_type": "code",
   "execution_count": null,
   "metadata": {
    "collapsed": true
   },
   "outputs": [],
   "source": []
  },
  {
   "cell_type": "code",
   "execution_count": null,
   "metadata": {
    "collapsed": true
   },
   "outputs": [],
   "source": []
  },
  {
   "cell_type": "code",
   "execution_count": null,
   "metadata": {
    "collapsed": true
   },
   "outputs": [],
   "source": []
  },
  {
   "cell_type": "code",
   "execution_count": null,
   "metadata": {
    "collapsed": true
   },
   "outputs": [],
   "source": []
  }
 ],
 "metadata": {
  "kernelspec": {
   "display_name": "Python 3",
   "language": "python",
   "name": "python3"
  },
  "language_info": {
   "codemirror_mode": {
    "name": "ipython",
    "version": 3
   },
   "file_extension": ".py",
   "mimetype": "text/x-python",
   "name": "python",
   "nbconvert_exporter": "python",
   "pygments_lexer": "ipython3",
   "version": "3.6.2"
  }
 },
 "nbformat": 4,
 "nbformat_minor": 2
}
