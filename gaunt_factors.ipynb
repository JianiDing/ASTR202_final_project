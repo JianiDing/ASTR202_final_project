{
 "cells": [
  {
   "cell_type": "markdown",
   "metadata": {},
   "source": [
    "### Bound-free Gaunt factor calculated following Karzas and Latter 1961.\n",
    "\n",
    "The bound free Gaunt factor is defined as\n",
    "\n",
    "$$ g_{bf} = \\frac{\\sigma_{bf}}{\\sigma_{bf}^{K}} $$\n",
    "\n",
    "where \n",
    "\n",
    "$\\sigma_{bf} $ is the quantum-mechanical bound-free cross-section\n",
    "\n",
    "$ \\sigma_{bf}^{K} $ is the semi-classical Kramer's cross-section\n",
    "\n",
    "For reference, see equation 40 of Karzas and Latter 1961.\n"
   ]
  },
  {
   "cell_type": "code",
   "execution_count": 1,
   "metadata": {},
   "outputs": [
    {
     "name": "stdout",
     "output_type": "stream",
     "text": [
      "Once deleted, variables cannot be recovered. Proceed (y/[n])? y\n"
     ]
    }
   ],
   "source": [
    "%reset\n",
    "import math \n",
    "import numpy as np \n",
    "import matplotlib.pyplot as plt \n",
    "\n",
    "# Constants in CGS units: http://www.astro.wisc.edu/~dolan/constants.html\n",
    "R = 2.1798741e-11 # Rydber's constant [erg]\n",
    "c = 2.99792458e10 # speed of light [cm s-1.]\n",
    "e_charge = 4.8032068e-10 # electron charge [esu]\n",
    "e_mass = 9.1093897e-28 # electron mass [g]"
   ]
  },
  {
   "cell_type": "code",
   "execution_count": 2,
   "metadata": {
    "collapsed": true
   },
   "outputs": [],
   "source": [
    "# General function for the gaunt factor\n",
    "def get_gaunt_factor_bf(sigma_bf_below, sigma_bf_above, sigma_bf_kramer): \n",
    "    gaunt_factor = (sigma_bf_below+sigma_bf_above)/sigma_bf_kramer\n",
    "    return gaunt_factor\n",
    "\n",
    "# Kramer's cross section (39)\n",
    "def get_kramer_sigma(n, E, Z): \n",
    "    \n",
    "    eta = math.sqrt(Z*Z*R/E)\n",
    "    rho = eta/n\n",
    "\n",
    "    kramer_sigma = 2.**4./(3*math.sqrt(3.))*e_charge**2./(e_mass*c*v) *1./n *(rho**2/(1+rho**2))**2. \n",
    "    return kramer_sigma\n",
    "\n",
    "# Quantum cross section going to l-1 (36)\n",
    "def sigma_bf_below(n, l, E, Z): \n",
    "    \n",
    "    eta = math.sqrt(Z*Z*R/E)\n",
    "    rho = eta/n\n",
    "\n",
    "    p1 = math.pi*e_charge**2/(e_mass*c*v)\n",
    "    p2 = 2.**(4*l)/3.\n",
    "    \n",
    "    p3 = l**2 * math.factorial(n+l)\n",
    "    \n",
    "    l = int(l)\n",
    "    \n",
    "    # make sure we're counting for the extreme cases, when l = 0 or 1\n",
    "    if l == 0: \n",
    "        return 0\n",
    "    elif l ==1: \n",
    "        p3 = 1\n",
    "    else:\n",
    "        for i in range(1, l): \n",
    "            p3 *= (i**2 + eta**2)\n",
    "    \n",
    "    # the factorial of a negative number does not exist\n",
    "    if n-l-1<0: \n",
    "        return 0\n",
    "    else:\n",
    "        p4 = math.factorial(2*l+1) *math.factorial(2*l-1) * math.factorial(n-l-1)\n",
    "    \n",
    "    p5 = math.exp(-4*eta*math.atan(1/rho))/(1-math.exp(-2*math.pi*eta)) # do I have the arctan function right?\n",
    "    # also is this an exponential or just the charge \n",
    "\n",
    "    p6 = rho**(2*l+2)/(1+rho**2)**(2*n-2)\n",
    "    \n",
    "    p7 = (G_l(l,-(l+1-n),eta,rho)-(1+rho**2)**(-2)*G_l(l,-(l-1-n),eta,rho))**2 # still need to define G_l\n",
    "    \n",
    "    all_together = p1*p2*p3/p4*p5*p6*p7\n",
    "    \n",
    "    return all_together\n",
    "\n",
    "# Quantum cross section going to l+1 (37)\n",
    "def sigma_bf_above(n, l, E, Z): \n",
    "    \n",
    "    eta = math.sqrt(Z*Z*R/E)\n",
    "    rho = eta/n\n",
    "    \n",
    "    p1 = math.pi*e_charge**2/(e_mass*c*v)\n",
    "    \n",
    "    p2 = 2.**(4*l+6)/3.\n",
    "    \n",
    "\n",
    "    p3= (l+1)**2 * math.factorial(n+l)\n",
    "\n",
    "    l = int(l)\n",
    "    n = int(n)\n",
    "    \n",
    "#     print \"First\", p3, l\n",
    "    for i in range(1,l+2): \n",
    "#         print i\n",
    "        p3 *= (i**2+eta**2)\n",
    "    \n",
    "#     print \"Then\", p3, l\n",
    "    \n",
    "    if n-l-1<0: \n",
    "        return 0\n",
    "    else:\n",
    "        p4 = (2*l+1)*math.factorial(2*l+1)*math.factorial(2*l+2)*math.factorial(n-l-1)*((l+1)**2+eta**2)**2\n",
    "    \n",
    "    p5 = math.exp(-4*eta*math.atan(1/rho))/(1-math.exp(-2*math.pi*eta)) # is this exponential or electron charge \n",
    "#     print p5 \n",
    "    \n",
    "    p6 = rho**(2*l+4)*eta**2/(1+rho**2)**(2*n)\n",
    "    \n",
    "    p7 = ((l+1-n)*G_l(l+1,-(l+1-n),eta,rho)+(l+1+n)/(1+rho**2)*G_l(l+1,-(l-n),eta,rho))**2 # still need to define G_l\n",
    "    \n",
    "#     print E, p6, eta**2.\n",
    "    \n",
    "#     print p4, eta**4.\n",
    "\n",
    "#     print G_l(l+1,-(l-n),eta,rho), eta**2\n",
    "    \n",
    "    all_together = p1*p2*p3/p4*p5*p6*p7\n",
    "    \n",
    "    return all_together\n",
    "\n",
    "# Bound free matrix element Gl (appendix C)\n",
    "def G_l(l, m, eta, rho): \n",
    "    \n",
    "    m = int(m)\n",
    "    gl = 0\n",
    "    for s in range(0,2*m+1): \n",
    "        gl += b_const(s, l, m, eta, rho)*rho**s\n",
    "#         print s, b_const(s, l, m, eta, rho), rho\n",
    "#     print \n",
    "    return gl \n",
    "\n",
    "# constant for the Gl free matrix element (Appendix c, eqn c8)\n",
    "def b_const(s, l, m, eta, rho):\n",
    "    \n",
    "#     print \"S used\", s, l\n",
    "    \n",
    "    if s==0:\n",
    "        return 1\n",
    "    elif s==1: \n",
    "#         print \"Printing at b\", m, eta\n",
    "        return 2*m*eta/l\n",
    "    else:\n",
    "        p1 = (4*eta*(s-1-m))*b_const(s-1, l, m, eta, rho)\n",
    "        p2 = (2*m+2-s)*(2*m+2*l+1-s)*b_const(s-2, l, m,  eta, rho)\n",
    "        return -1./(s*(s+2*l-1))*(p1+p2)"
   ]
  },
  {
   "cell_type": "code",
   "execution_count": 3,
   "metadata": {
    "scrolled": true
   },
   "outputs": [
    {
     "data": {
      "image/png": "[encoded data removed]",
      "text/plain": [
       "<matplotlib.figure.Figure at 0x1076f9080>"
      ]
     },
     "metadata": {},
     "output_type": "display_data"
    }
   ],
   "source": [
    "\n",
    "\n",
    "n = 1. \n",
    "l = 0\n",
    "E = 1.\n",
    "Z = 1.\n",
    "v= 1.\n",
    "\n",
    "coeff_array = np.linspace(-4, 3, 100)\n",
    "\n",
    "E_array = 10**(coeff_array)*Z**2*R\n",
    "\n",
    "x_array = np.log(E_array/(Z**2*R))\n",
    "gaunt_array = []\n",
    "\n",
    "for E in E_array: \n",
    "    s_kramer = get_kramer_sigma(n, E, Z)\n",
    "    s_below = sigma_bf_below(n, l, E, Z)\n",
    "    s_above = sigma_bf_above(n, l, E, Z)\n",
    "\n",
    "    gaunt_array.append(get_gaunt_factor_bf(s_below, s_above, s_kramer))\n",
    "#     print s_above, s_kramer, get_gaunt_factor_bf(s_below, s_above, s_kramer)\n",
    "    \n",
    "plt.figure()\n",
    "plt.plot(coeff_array, gaunt_array)\n",
    "plt.yscale(\"log\")\n",
    "# plt.gca().invert_yaxis()\n",
    "plt.show()\n",
    "\n",
    "    "
   ]
  },
  {
   "cell_type": "markdown",
   "metadata": {},
   "source": [
    "## Bound Free emissivity formulas"
   ]
  },
  {
   "cell_type": "code",
   "execution_count": 13,
   "metadata": {
    "collapsed": true
   },
   "outputs": [],
   "source": [
    "import numpy as np \n",
    "\n",
    "def gamma_fb(Z,v,T,vo,gfb): #equation 4.23 of Osterbrock\n",
    "    #v is the frequency\n",
    "    gamma= 32.*(Z**2.)*h*e_charge**4. / (3.*(e_mass**2.)*c**3.) * (np.pi*h*vo/(3.*k*T))**0.5 *np.exp(-h*v/(k*T)) * gfb\n",
    "    return gamma \n",
    "\n",
    "def emissivity(Np, Ne, gamma): #equation 4.22 of Osterbrock\n",
    "    #Np= number density of protons\n",
    "    #Ne= number density of electrions, from table 4.6 of Osterbrock\n",
    "    Jv= Nt*Ne*gamma/ (4.*np.pi)\n",
    "    return Jv\n",
    "\n",
    "def Lyman_C(gamma, alpha_b, fesc, Nlyc): #equation from Ono et al. 2010\n",
    "    #alpha_b= case B recombination coefficient for hydrogen cm3 s-1 -- table 4.6 in Osterbrock\n",
    "    #fesc= escape fraction of radiation\n",
    "    #Nlyc=Number of LyC photons/ s --comes from our pop synthesis model\n",
    "    Lv=gamma * (1-fesc) * Nlyc / alpha_b\n"
   ]
  },
  {
   "cell_type": "code",
   "execution_count": 14,
   "metadata": {},
   "outputs": [
    {
     "data": {
      "image/png": "[encoded data removed]",
      "text/plain": [
       "<matplotlib.figure.Figure at 0x11064ca20>"
      ]
     },
     "metadata": {},
     "output_type": "display_data"
    }
   ],
   "source": [
    "#reproducing the final plot\n",
    "\n",
    "# Constants in CGS units: http://www.astro.wisc.edu/~dolan/constants.html, thanks Enia <3\n",
    "R = 2.1798741e-11 # Rydber's constant [erg]\n",
    "c = 2.99792458e10 # speed of light [cm s-1.]\n",
    "e_charge = 4.8032068e-10 # electron charge [esu]\n",
    "e_mass = 9.1093897e-28 # electron mass [g]\n",
    "h = 6.6260755e-27 # planck's constant [erg s]\n",
    "k = 1.380658e-16 #Boltzmann constant [erg K-1]\n",
    "n = 1. \n",
    "l = 0\n",
    "Z = 1.\n",
    "T= 10000. #K\n",
    "\n",
    "wavelength=np.linspace(1e-5,1e-3,100) #centimeters\n",
    "\n",
    "def frequency(x):\n",
    "    return c/x\n",
    "\n",
    "frequencies=frequency(wavelength)\n",
    "\n",
    "def energy(freq):\n",
    "    return h * freq\n",
    "\n",
    "energies=energy(frequencies)\n",
    "\n",
    "vo=R/h\n",
    "y=[]\n",
    "for i in range(len(energies)):\n",
    "    s_kramer = get_kramer_sigma(n, energies[i], Z)\n",
    "    s_below = sigma_bf_below(n, l, energies[i], Z)\n",
    "    s_above = sigma_bf_above(n, l, energies[i], Z)\n",
    "    gfb=(get_gaunt_factor_bf(s_below, s_above, s_kramer))\n",
    "    gamma=gamma_fb(Z,frequencies[i],T,vo,gfb) \n",
    "    y.append(gamma*frequencies[i])\n",
    "\n",
    "plt.plot(wavelength, y)\n",
    "plt.xscale('log')\n",
    "plt.yscale('log')\n",
    "plt.ylim(10e-27,10e-24)\n",
    "plt.xlabel('Wavelength (cm)')\n",
    "plt.ylabel(r'$\\nu\\gamma_{\\nu} (erg  cm^3  s^{-1})$')\n",
    "plt.show()\n"
   ]
  },
  {
   "cell_type": "code",
   "execution_count": 37,
   "metadata": {},
   "outputs": [
    {
     "name": "stdout",
     "output_type": "stream",
     "text": [
      "0.0235354958967\n"
     ]
    }
   ],
   "source": [
    "lda=2600 / (1e8) #looking at table 4.7 in osterbrock? \n",
    "fr= c/lda\n",
    "vo=R/h\n",
    "s_kramer = get_kramer_sigma(n, fr*h, Z)\n",
    "s_below = sigma_bf_below(n, l, fr*h, Z)\n",
    "s_above = sigma_bf_above(n, l, fr*h, Z)\n",
    "gfb=(get_gaunt_factor_bf(s_below, s_above, s_kramer))\n",
    "gamma=gamma_fb(Z,fr,T,vo,gfb) \n",
    "y=(gamma)\n",
    "print(y/(1e-40)) #off BUT the gamma in table 4.7 is (probably) the combined gamma for bf and ff"
   ]
  },
  {
   "cell_type": "code",
   "execution_count": null,
   "metadata": {
    "collapsed": true
   },
   "outputs": [],
   "source": []
  }
 ],
 "metadata": {
  "kernelspec": {
   "display_name": "Python 3",
   "language": "python",
   "name": "python3"
  },
  "language_info": {
   "codemirror_mode": {
    "name": "ipython",
    "version": 3
   },
   "file_extension": ".py",
   "mimetype": "text/x-python",
   "name": "python",
   "nbconvert_exporter": "python",
   "pygments_lexer": "ipython3",
   "version": "3.6.2"
  }
 },
 "nbformat": 4,
 "nbformat_minor": 2
}
