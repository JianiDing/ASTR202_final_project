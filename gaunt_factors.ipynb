{
 "cells": [
  {
   "cell_type": "markdown",
   "metadata": {},
   "source": [
    "### Bound-free Gaunt factor calculated following Karzas and Latter 1961.\n",
    "\n",
    "The bound free Gaunt factor is defined as\n",
    "\n",
    "$$ g_{bf} = \\frac{\\sigma_{bf}}{\\sigma_{bf}^{K}} $$\n",
    "\n",
    "where \n",
    "\n",
    "$\\sigma_{bf} $ is the quantum-mechanical bound-free cross-section\n",
    "\n",
    "$ \\sigma_{bf}^{K} $ is the semi-classical Kramer's cross-section\n",
    "\n",
    "For reference, see equation 40 of Karzas and Latter 1961.\n"
   ]
  },
  {
   "cell_type": "code",
   "execution_count": 130,
   "metadata": {},
   "outputs": [
    {
     "name": "stdout",
     "output_type": "stream",
     "text": [
      "Once deleted, variables cannot be recovered. Proceed (y/[n])? y\n"
     ]
    }
   ],
   "source": [
    "%reset\n",
    "import math \n",
    "import numpy as np \n",
    "import matplotlib.pyplot as plt \n",
    "\n",
    "# Constants in CGS units: http://www.astro.wisc.edu/~dolan/constants.html\n",
    "R = 2.1798741e-11 # Rydber's constant [erg]\n",
    "c = 2.99792458e10 # speed of light [cm s-1.]\n",
    "e_charge = 4.8032068e-10 # electron charge [esu]\n",
    "e_mass = 9.1093897e-28 # electron mass [g]\n",
    "v = 1/(10.**(-5)) # what should I set this to?"
   ]
  },
  {
   "cell_type": "code",
   "execution_count": 154,
   "metadata": {
    "collapsed": true
   },
   "outputs": [],
   "source": [
    "# General function for the gaunt factor\n",
    "def get_gaunt_factor_bf(sigma_bf_above, sigma_bf_kramer): \n",
    "    gaunt_factor = (sigma_bf_above)/sigma_bf_kramer\n",
    "    return gaunt_factor\n",
    "\n",
    "# Kramer's cross section (39)\n",
    "def get_kramer_sigma(n, E, Z): \n",
    "    \n",
    "    eta = math.sqrt(Z*Z*R/E)\n",
    "    rho = eta/n\n",
    "\n",
    "    kramer_sigma = 2.**4./(3*math.sqrt(3.))*e_charge**2./(e_mass*c*v) *1./n *(rho**2/(1+rho**2))**2. \n",
    "    return kramer_sigma\n",
    "\n",
    "# Quantum cross section going to l-1 (36)\n",
    "# def sigma_bf_below(n, l, E, Z): \n",
    "    \n",
    "#     eta = math.sqrt(Z*Z*R/E)\n",
    "#     rho = eta/n\n",
    "\n",
    "#     p1 = math.pi*e_charge**2/(e_mass*c*v)\n",
    "#     p2 = 2.**(4*l)/3.\n",
    "    \n",
    "#     p3 = l**2 * math.factorial(n+l)\n",
    "    \n",
    "#     l = int(l)\n",
    "    \n",
    "#     # make sure we're counting for the extreme cases, when l = 0 or 1\n",
    "#     if l == 0: \n",
    "#         return 0\n",
    "#     elif l ==1: \n",
    "#         p3 = 1\n",
    "#     else:\n",
    "#         for i in range(1, l): \n",
    "#             p3 *= (i**2 + eta**2)\n",
    "    \n",
    "#     # the factorial of a negative number does not exist\n",
    "#     if n-l-1<0: \n",
    "#         return 0\n",
    "#     else:\n",
    "#         p4 = math.factorial(2*l+1) *math.factorial(2*l-1) * math.factorial(n-l-1)\n",
    "    \n",
    "#     p5 = math.exp(-4*eta*math.atan(1/rho))/(1-math.exp(-2*math.pi*eta)) # do I have the arctan function right?\n",
    "#     # also is this an exponential or just the charge \n",
    "\n",
    "#     p6 = rho**(2*l+2)/(1+rho**2)**(2*n-2)\n",
    "    \n",
    "#     p7 = (G_l(l,-(l+1-n),eta,rho)-(1+rho**2)**(-2)*G_l(l,-(l-1-n),eta,rho))**2 # still need to define G_l\n",
    "    \n",
    "#     all_together = p1*p2*p3/p4*p5*p6*p7\n",
    "    \n",
    "#     return all_together\n",
    "\n",
    "# Quantum cross section going to l+1 (37)\n",
    "def sigma_bf_above(n, l, E, Z): \n",
    "    \n",
    "    eta = math.sqrt(Z*Z*R/E)\n",
    "    rho = eta/n\n",
    "    \n",
    "    p1 = math.pi*e_charge**2/(e_mass*c*v)\n",
    "    \n",
    "    p2 = 2.**(4*l+6)/3.\n",
    "    \n",
    "\n",
    "    p3= (l+1)**2 * math.factorial(n+l)\n",
    "\n",
    "    l = int(l)\n",
    "    n = int(n)\n",
    "    \n",
    "#     print \"First\", p3, l\n",
    "    for i in range(1,l+2): \n",
    "#         print i\n",
    "        p3 *= (i**2+eta**2)\n",
    "    \n",
    "#     print \"Then\", p3, l\n",
    "    \n",
    "    if n-l-1<0: \n",
    "        return 0\n",
    "    else:\n",
    "        p4 = (2*l+1)*math.factorial(2*l+1)*math.factorial(2*l+2)*math.factorial(n-l-1)*((l+1)**2+eta**2)**2\n",
    "    \n",
    "    p5 = math.exp(-4*eta*math.atan(1/rho))/(1-math.exp(-2*math.pi*eta)) # is this exponential or electron charge \n",
    "#     print p5 \n",
    "    \n",
    "    p6 = rho**(2*l+4)*eta**2/(1+rho**2)**(2*n)\n",
    "    \n",
    "    p7 = ((l+1-n)*G_l(l+1,-(l+1-n),eta,rho)+(l+1+n)/(1+rho**2)*G_l(l+1,-(l-n),eta,rho))**2 # still need to define G_l\n",
    "    \n",
    "#     print E, p6, eta**2.\n",
    "    \n",
    "#     print p4, eta**4.\n",
    "\n",
    "#     print G_l(l+1,-(l-n),eta,rho), eta**2\n",
    "    \n",
    "    all_together = p1*p2*p3/p4*p5*p6*p7\n",
    "    \n",
    "    return all_together\n",
    "\n",
    "# Bound free matrix element Gl (appendix C)\n",
    "def G_l(l, m, eta, rho): \n",
    "    \n",
    "    m = int(m)\n",
    "    gl = 0\n",
    "    for s in range(0,2*m+1): \n",
    "        gl += b_const(s, l, m, eta, rho)*rho**s\n",
    "#         print s, b_const(s, l, m, eta, rho), rho\n",
    "#     print \n",
    "    return gl \n",
    "\n",
    "# constant for the Gl free matrix element (Appendix c, eqn c8)\n",
    "def b_const(s, l, m, eta, rho):\n",
    "    \n",
    "#     print \"S used\", s, l\n",
    "    \n",
    "    if s==0:\n",
    "        return 1\n",
    "    elif s==1: \n",
    "#         print \"Printing at b\", m, eta\n",
    "        return 2*m*eta/l\n",
    "    else:\n",
    "        p1 = (4*eta*(s-1-m))*b_const(s-1, l, m, eta, rho)\n",
    "        p2 = (2*m+2-s)*(2*m+2*l+1-s)*b_const(s-2, l, m,  eta, rho)\n",
    "        return -1./(s*(s+2*l-1))*(p1+p2)"
   ]
  },
  {
   "cell_type": "code",
   "execution_count": 156,
   "metadata": {
    "scrolled": true
   },
   "outputs": [
    {
     "data": {
      "image/png": "[encoded data removed]",
      "text/plain": [
       "<matplotlib.figure.Figure at 0x107f13f10>"
      ]
     },
     "metadata": {},
     "output_type": "display_data"
    }
   ],
   "source": [
    "\n",
    "\n",
    "n = 1. \n",
    "l = 0\n",
    "E = 1.\n",
    "Z = 1.\n",
    "\n",
    "coeff_array = np.linspace(-4, 3, 100)\n",
    "\n",
    "E_array = 10**(coeff_array)*Z**2*R\n",
    "\n",
    "x_array = np.log(E_array/(Z**2*R))\n",
    "gaunt_array = []\n",
    "\n",
    "for E in E_array: \n",
    "    s_kramer = get_kramer_sigma(n, E, Z)\n",
    "#     s_below = sigma_bf_below(n, l, E, Z)\n",
    "    s_above = sigma_bf_above(n, l, E, Z)\n",
    "\n",
    "    gaunt_array.append(get_gaunt_factor_bf(s_above, s_kramer))\n",
    "#     print s_above, s_kramer, get_gaunt_factor_bf(s_below, s_above, s_kramer)\n",
    "    \n",
    "plt.figure()\n",
    "plt.plot(coeff_array, gaunt_array)\n",
    "plt.yscale(\"log\")\n",
    "# plt.gca().invert_yaxis()\n",
    "plt.show()\n",
    "\n",
    "    "
   ]
  },
  {
   "cell_type": "code",
   "execution_count": 81,
   "metadata": {},
   "outputs": [
    {
     "name": "stdout",
     "output_type": "stream",
     "text": [
      "[  1.00000000e-16   1.00000000e-15   1.00000000e-14   1.00000000e-13\n",
      "   1.00000000e-12   1.00000000e-11   1.00000000e-10   1.00000000e-09\n",
      "   1.00000000e-08   1.00000000e-07   1.00000000e-06   1.00000000e-05\n",
      "   1.00000000e-04   1.00000000e-03   1.00000000e-02   1.00000000e-01\n",
      "   1.00000000e+00   1.00000000e+01   1.00000000e+02   1.00000000e+03\n",
      "   1.00000000e+04   1.00000000e+05   1.00000000e+06   1.00000000e+07\n",
      "   1.00000000e+08   1.00000000e+09   1.00000000e+10   1.00000000e+11\n",
      "   1.00000000e+12]\n"
     ]
    }
   ],
   "source": [
    "logc_test = np.arange(-16., 13.)\n",
    "\n",
    "c_test = 10.**logc_test\n",
    "\n",
    "print c_test\n",
    "E_testarr = R*c_test"
   ]
  },
  {
   "cell_type": "code",
   "execution_count": 83,
   "metadata": {},
   "outputs": [
    {
     "name": "stdout",
     "output_type": "stream",
     "text": [
      "1e-16 1.58578109911e-29\n",
      "1e-15 1.74327980848e-28\n",
      "1e-14 2.29039999268e-27\n",
      "1e-13 4.51120126908e-26\n",
      "1e-12 1.64405449381e-24\n",
      "1e-11 1.03229975971e-22\n",
      "1e-10 8.6833759522e-21\n",
      "1e-09 8.19437371907e-19\n",
      "1e-08 8.04268668564e-17\n",
      "1e-07 7.99501279023e-15\n",
      "1e-06 7.97995488401e-13\n",
      "1e-05 7.97508027094e-11\n",
      "0.0001 7.97238103804e-09\n",
      "0.001 7.95996235872e-07\n",
      "0.01 7.84184620623e-05\n",
      "0.1 0.00679371931874\n",
      "1.0 0.235584277599\n",
      "10.0 0.765623189703\n",
      "100.0 0.502820084178\n",
      "1000.0 0.198241912074\n",
      "10000.0 0.0671349783005\n",
      "100000.0 0.0216921841267\n",
      "1000000.0 0.00690646734325\n",
      "10000000.0 0.00218871461103\n",
      "100000000.0 0.000692602696883\n",
      "1000000000.0 0.000219067258356\n",
      "10000000000.0 6.92798557738e-05\n",
      "100000000000.0 2.19086846452e-05\n",
      "1e+12 6.92818146467e-06\n"
     ]
    }
   ],
   "source": [
    "\n",
    "for ie, E_test in enumerate(E_testarr):\n",
    "    st_kramer = get_kramer_sigma(n, E_test, Z)\n",
    "    st_below = sigma_bf_below(n, l, E_test, Z)\n",
    "    st_above = sigma_bf_above(n, l, E_test, Z)\n",
    "\n",
    "    gf = get_gaunt_factor_bf(st_below, st_above, st_kramer)\n",
    "    \n",
    "    print c_test[ie], gf"
   ]
  },
  {
   "cell_type": "code",
   "execution_count": 105,
   "metadata": {},
   "outputs": [
    {
     "data": {
      "text/plain": [
       "2.1798741e-12"
      ]
     },
     "execution_count": 105,
     "metadata": {},
     "output_type": "execute_result"
    }
   ],
   "source": [
    ".1*R"
   ]
  },
  {
   "cell_type": "code",
   "execution_count": 115,
   "metadata": {},
   "outputs": [
    {
     "data": {
      "text/plain": [
       "1"
      ]
     },
     "execution_count": 115,
     "metadata": {},
     "output_type": "execute_result"
    }
   ],
   "source": [
    "math.factorial(0)"
   ]
  },
  {
   "cell_type": "code",
   "execution_count": null,
   "metadata": {
    "collapsed": true
   },
   "outputs": [],
   "source": []
  }
 ],
 "metadata": {
  "kernelspec": {
   "display_name": "Python 2",
   "language": "python",
   "name": "python2"
  },
  "language_info": {
   "codemirror_mode": {
    "name": "ipython",
    "version": 2
   },
   "file_extension": ".py",
   "mimetype": "text/x-python",
   "name": "python",
   "nbconvert_exporter": "python",
   "pygments_lexer": "ipython2",
   "version": "2.7.13"
  }
 },
 "nbformat": 4,
 "nbformat_minor": 2
}
