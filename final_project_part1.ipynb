{
 "cells": [
  {
   "cell_type": "code",
   "execution_count": 2,
   "metadata": {
    "collapsed": true
   },
   "outputs": [],
   "source": [
    "import fsps\n",
    "from matplotlib import pylab as plt\n",
    "import numpy as np\n",
    "from scipy.interpolate import interp1d\n",
    "np.set_printoptions(threshold=np.nan)\n",
    "from scipy import integrate"
   ]
  },
  {
   "cell_type": "code",
   "execution_count": 3,
   "metadata": {
    "collapsed": true
   },
   "outputs": [],
   "source": [
    "sp = fsps.StellarPopulation(compute_vega_mags=False, zcontinuous=1, zred = 0.,\n",
    "                                sfh=3, logzsol=0.0, dust_type=2, dust2=0.2,add_igm_absorption= False)"
   ]
  },
  {
   "cell_type": "code",
   "execution_count": 4,
   "metadata": {
    "collapsed": true
   },
   "outputs": [],
   "source": [
    "sdss_bands = fsps.find_filter('sdss')"
   ]
  },
  {
   "cell_type": "code",
   "execution_count": 5,
   "metadata": {},
   "outputs": [
    {
     "name": "stdout",
     "output_type": "stream",
     "text": [
      "[ 0.   0.1  0.2  0.3  0.4  0.5  0.6  0.7  0.8  0.9  1. ]\n"
     ]
    }
   ],
   "source": [
    "print(np.ndarray((11,), buffer=np.array(np.linspace(0,1,11)),dtype=float))"
   ]
  },
  {
   "cell_type": "code",
   "execution_count": 6,
   "metadata": {
    "collapsed": true
   },
   "outputs": [],
   "source": [
    "sp.set_tabular_sfh(np.ndarray((11,), buffer=np.array(np.linspace(0,1,11)),dtype=float), np.ndarray((11,), buffer=np.array(11*[5]),dtype=int))"
   ]
  },
  {
   "cell_type": "code",
   "execution_count": 12,
   "metadata": {},
   "outputs": [],
   "source": [
    "#print (sp.sfr(tage=0.5))"
   ]
  },
  {
   "cell_type": "code",
   "execution_count": 7,
   "metadata": {},
   "outputs": [
    {
     "name": "stdout",
     "output_type": "stream",
     "text": [
      "['sdss_u', 'sdss_g', 'sdss_r', 'sdss_i', 'sdss_z']\n"
     ]
    }
   ],
   "source": [
    "print(sdss_bands)"
   ]
  },
  {
   "cell_type": "code",
   "execution_count": 8,
   "metadata": {},
   "outputs": [
    {
     "data": {
      "text/plain": [
       "array([ 28.17594137,  26.13334186,  25.75305122,  25.68640423,  25.66425939])"
      ]
     },
     "execution_count": 8,
     "metadata": {},
     "output_type": "execute_result"
    }
   ],
   "source": [
    "sp.get_mags(tage=0.5, bands=sdss_bands)"
   ]
  },
  {
   "cell_type": "code",
   "execution_count": 9,
   "metadata": {},
   "outputs": [
    {
     "data": {
      "image/png": "[encoded data removed]",
      "text/plain": [
       "<matplotlib.figure.Figure at 0x162bf3ef0>"
      ]
     },
     "metadata": {},
     "output_type": "display_data"
    }
   ],
   "source": [
    "wave, spec = sp.get_spectrum(tage=0.5)\n",
    "sed = spec*3.83*10**33/4/np.pi/(25924*10**6*3.08*10**18)**2/10**(-29)\n",
    "sedlambda = spec*3.83*10**33\n",
    "#plt.yscale('log')\n",
    "#print(wave, sed)\n",
    "plt.plot(wave[np.where((wave >= 500) & (wave <= 30000))]/4, sed[np.where((wave >= 500) & (wave <= 30000))])\n",
    "plt.show()\n",
    "\n"
   ]
  },
  {
   "cell_type": "code",
   "execution_count": 10,
   "metadata": {},
   "outputs": [
    {
     "name": "stdout",
     "output_type": "stream",
     "text": [
      "[-20.39227101 -20.40637457 -20.47575605 -20.57799676 -20.59884717\n",
      " -20.57087148 -20.60353298 -20.48635863 -20.0122707  -20.30747853\n",
      " -19.64184572]\n",
      "[  5.21084797e+17   5.27897770e+17   5.62733047e+17   6.18299227e+17\n",
      "   6.30287751e+17   6.14254844e+17   6.33013820e+17   5.68255242e+17\n",
      "   3.67204742e+17   4.81938267e+17   2.61058769e+17]\n"
     ]
    }
   ],
   "source": [
    "filtername = ['wfc_acs_f435w','wfc_acs_f606w','wfc_acs_f775w','wfc_acs_f850lp','wfc3_ir_f105w','wfc3_ir_f125w',\n",
    "             'wfc3_ir_f160w','jwst_f200w','jwst_f277w','jwst_f356w','jwst_f444w']\n",
    "mag = sp.get_mags(tage=0.5, bands=filtername)\n",
    "print (mag)\n",
    "\n",
    "janskyflux = 10**((48.6+mag)/(-2.5))/10**(-29)\n",
    "print (janskyflux)"
   ]
  },
  {
   "cell_type": "code",
   "execution_count": 11,
   "metadata": {},
   "outputs": [
    {
     "data": {
      "image/png": "[encoded data removed]",
      "text/plain": [
       "<matplotlib.figure.Figure at 0x1668b0a20>"
      ]
     },
     "metadata": {},
     "output_type": "display_data"
    }
   ],
   "source": [
    "#create the function used to integrate\n",
    "\n",
    "fint = sedlambda[np.where((wave >= 0) & (wave <= 912))]/(6.626*10**(-27))/wave[np.where((wave >= 0) & (wave <= 912))]\n",
    "\n",
    "plt.plot(wave[np.where((wave >= 0) & (wave <= 912))], fint)\n",
    "plt.show()"
   ]
  },
  {
   "cell_type": "code",
   "execution_count": 12,
   "metadata": {
    "collapsed": true
   },
   "outputs": [],
   "source": [
    "#integrate through the wavelenght 0 t0 912 A\n",
    "photonrate = integrate.simps(fint, wave[np.where((wave >= 0) & (wave <= 912))] )"
   ]
  },
  {
   "cell_type": "code",
   "execution_count": 13,
   "metadata": {},
   "outputs": [
    {
     "name": "stdout",
     "output_type": "stream",
     "text": [
      "1.47234061733e+53\n"
     ]
    }
   ],
   "source": [
    "print (photonrate)"
   ]
  },
  {
   "cell_type": "code",
   "execution_count": null,
   "metadata": {
    "collapsed": true
   },
   "outputs": [],
   "source": []
  }
 ],
 "metadata": {
  "kernelspec": {
   "display_name": "Python 3",
   "language": "python",
   "name": "python3"
  },
  "language_info": {
   "codemirror_mode": {
    "name": "ipython",
    "version": 3
   },
   "file_extension": ".py",
   "mimetype": "text/x-python",
   "name": "python",
   "nbconvert_exporter": "python",
   "pygments_lexer": "ipython3",
   "version": "3.6.2"
  }
 },
 "nbformat": 4,
 "nbformat_minor": 2
}
