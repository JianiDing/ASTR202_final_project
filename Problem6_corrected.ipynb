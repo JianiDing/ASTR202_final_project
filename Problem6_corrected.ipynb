{
 "cells": [
  {
   "cell_type": "markdown",
   "metadata": {},
   "source": [
    "# Problem 6 Joint Notebook"
   ]
  },
  {
   "cell_type": "markdown",
   "metadata": {},
   "source": [
    "## Imports go here"
   ]
  },
  {
   "cell_type": "markdown",
   "metadata": {},
   "source": [
    "Imports for Problem 2, free-free emission"
   ]
  },
  {
   "cell_type": "code",
   "execution_count": 2,
   "metadata": {},
   "outputs": [],
   "source": [
    "import matplotlib.pyplot as plt\n",
    "import numpy as np\n",
    "from scipy import interpolate\n",
    "from two_photon import two_ph"
   ]
  },
  {
   "cell_type": "markdown",
   "metadata": {},
   "source": [
    "## Generate functions here "
   ]
  },
  {
   "cell_type": "markdown",
   "metadata": {},
   "source": [
    "Code for Problem 2, free-free emission  \n",
    "Make sure gauntff_noerr.dat is in a place where this notebook can grab it!!!"
   ]
  },
  {
   "cell_type": "code",
   "execution_count": 3,
   "metadata": {
    "collapsed": true
   },
   "outputs": [],
   "source": [
    "### Interpolation of free-free gaunt factor ###\n",
    "\n",
    "# read in the data table for free free gaunt factor\n",
    "# this is basically our 'z' data\n",
    "g_table = 'gauntff_noerr.dat'\n",
    "g_data = np.loadtxt(g_table, skiprows=42) # skipping the header\n",
    "\n",
    "# follow the header to get log(u) and log(gam2) values for\n",
    "# interpolation   \n",
    "g_logu = np.arange(-16, 13.2, 0.2)\n",
    "g_loggam2 = np.arange(-6, 10.2, 0.2)\n",
    "\n",
    "# create the interpolation\n",
    "g_interp = interpolate.interp2d(g_loggam2, g_logu, g_data)\n",
    "\n",
    "### Evaluation of formula ###\n",
    "\n",
    "# fundamental constants\n",
    "Ry = 2.17987e-11 # erg\n",
    "h = 6.62606885e-27 # erg * s\n",
    "k = 1.3807e-16 # erg * k^-1\n",
    "c = 2.998e10 # cm / s\n",
    "\n",
    "# get gam2 and u in terms of T and nu\n",
    "gam2 = lambda T: Ry/(k * T)\n",
    "u = lambda T, nu: (h * nu) / (k * T)\n",
    "\n",
    "# main function to be evaluated \n",
    "\n",
    "def gamff (T, lamb):\n",
    "    # convert a wavelength (lamb) in micrometers to a frequency\n",
    "    nu = (c / (lamb * 10**-4))\n",
    "    \n",
    "    # interpolate the gaunt factor\n",
    "    gff = g_interp(np.log10(gam2(T)),np.log10(u(T, nu)))\n",
    "    \n",
    "    # transpose the matrix. This is just for consistensy sake with the \n",
    "    # horizontal inputs \n",
    "    gff = np.resize(gff, (1000,))\n",
    "    \n",
    "    # evaluate the function \n",
    "    output = 5.44 * 10**(-39) * (4*np.pi) * (T**(-1/2)) * gff * np.exp(-h * nu/(k * T)) * nu\n",
    "    return output"
   ]
  },
  {
   "cell_type": "markdown",
   "metadata": {},
   "source": [
    "## Free Bound"
   ]
  },
  {
   "cell_type": "code",
   "execution_count": 4,
   "metadata": {
    "collapsed": true
   },
   "outputs": [],
   "source": [
    "# General function for the gaunt factor\n",
    "import math \n",
    "import numpy as np \n",
    "import matplotlib.pyplot as plt \n",
    "\n",
    "def total_sigma_bf(v,Z,l,n):\n",
    "    E = v*h\n",
    "    if E < (Z**2 * R / n**2):\n",
    "        return 0.\n",
    "    sigma_sum = sigma_bf_below(n, l, v, Z) + sigma_bf_above(n, l, v, Z)\n",
    "\n",
    "    return sigma_sum\n",
    "\n",
    "def get_gaunt_factor_bf(v, Z, n, E):\n",
    "    sigma_bf = a_n(v,Z,n)\n",
    "    sigma_k = get_kramer_sigma(n, E, Z)\n",
    "    \n",
    "    return sigma_bf/sigma_k\n",
    "\n",
    "# Kramer's cross section (39)\n",
    "def get_kramer_sigma(n, E, Z): \n",
    "    \n",
    "    eta = math.sqrt(Z*Z*R/E)\n",
    "    rho = eta/n\n",
    "\n",
    "    kramer_sigma = 2.**4./(3*math.sqrt(3.))*e_charge**2./(e_mass*c*v) *1./n *(rho**2/(1+rho**2))**2. \n",
    "    return kramer_sigma\n",
    "\n",
    "# Quantum cross section going to l-1 (36)\n",
    "def sigma_bf_below(n, l, v, Z): \n",
    "    \n",
    "    E = v*h\n",
    "    eta = math.sqrt(Z*Z*R/E)\n",
    "    rho = eta/n\n",
    "\n",
    "    p1 = math.pi*e_charge**2/(e_mass*c*v)\n",
    "    p2 = 2.**(4*l)/3.\n",
    "    \n",
    "    p3 = l**2 * math.factorial(n+l)\n",
    "    \n",
    "    l = int(l)\n",
    "    \n",
    "    # make sure we're counting for the extreme cases, when l = 0 or 1\n",
    "    if l == 0: \n",
    "        return 0\n",
    "    elif l ==1: \n",
    "        p3 = 1\n",
    "    else:\n",
    "        for i in range(1, l): \n",
    "            p3 *= (i**2 + eta**2)\n",
    "    \n",
    "    # the factorial of a negative number does not exist\n",
    "    if n-l-1<0: \n",
    "        return 0\n",
    "    else:\n",
    "        p4 = math.factorial(2*l+1) *math.factorial(2*l-1) * math.factorial(n-l-1)\n",
    "    \n",
    "    p5 = math.exp(-4*eta*math.atan(1/rho))/(1-math.exp(-2*math.pi*eta))\n",
    "\n",
    "    p6 = rho**(2*l+2)/(1+rho**2)**(2*n-2)\n",
    "    \n",
    "    p7 = (G_l(l,-(l+1-n),eta,rho)-(1+rho**2)**(-2)*G_l(l,-(l-1-n),eta,rho))**2 \n",
    "    \n",
    "    all_together = p1*p2*p3/p4*p5*p6*p7\n",
    "    \n",
    "    return all_together\n",
    "\n",
    "# Quantum cross section going to l+1 (37)\n",
    "def sigma_bf_above(n, l, v, Z): \n",
    "    E = v*h\n",
    "    eta = math.sqrt(Z*Z*R/E)\n",
    "    rho = eta/n\n",
    "    \n",
    "    p1 = math.pi*e_charge**2/(e_mass*c*v)\n",
    "    \n",
    "    p2 = 2.**(4*l+6)/3.\n",
    "    \n",
    "\n",
    "    p3= (l+1)**2 * math.factorial(n+l)\n",
    "\n",
    "    l = int(l)\n",
    "    n = int(n)\n",
    "    \n",
    "    for i in range(1,l+2): \n",
    "        \n",
    "        p3 *= (i**2+eta**2)\n",
    "    \n",
    "    if n-l-1<0: \n",
    "        return 0\n",
    "    else:\n",
    "        p4 = (2*l+1)*math.factorial(2*l+1)*math.factorial(2*l+2)*math.factorial(n-l-1)*((l+1)**2+eta**2)**2\n",
    "    \n",
    "    p5 = math.exp(-4*eta*math.atan(1/rho))/(1-math.exp(-2*math.pi*eta))\n",
    "    \n",
    "    p6 = rho**(2*l+4)*eta**2/(1+rho**2)**(2*n)\n",
    "    \n",
    "    p7 = ((l+1-n)*G_l(l+1,-(l+1-n),eta,rho)+(l+1+n)/(1+rho**2)*G_l(l+1,-(l-n),eta,rho))**2 \n",
    "    \n",
    "    all_together = p1*p2*p3/p4*p5*p6*p7\n",
    "    \n",
    "    return all_together\n",
    "\n",
    "# Bound free matrix element Gl (appendix C)\n",
    "def G_l(l, m, eta, rho): \n",
    "    \n",
    "    m = int(m)\n",
    "    gl = 0\n",
    "    for s in range(0,2*m+1): \n",
    "        gl += b_const(s, l, m, eta, rho)*rho**s\n",
    "    return gl \n",
    "\n",
    "# constant for the Gl free matrix element (Appendix c, eqn c8)\n",
    "def b_const(s, l, m, eta, rho):\n",
    "    \n",
    "    if s==0:\n",
    "        return 1\n",
    "    elif s==1: \n",
    "        return 2*m*eta/l\n",
    "    else:\n",
    "        p1 = (4*eta*(s-1-m))*b_const(s-1, l, m, eta, rho)\n",
    "        p2 = (2*m+2-s)*(2*m+2*l+1-s)*b_const(s-2, l, m,  eta, rho)\n",
    "        return -1./(s*(s+2*l-1))*(p1+p2)\n",
    "    \n",
    "import numpy as np \n",
    "\n",
    "def a_n(v,Z,n): #Matthew and Brown 1970\n",
    "    E = h*v\n",
    "    sigma_weighted = 0\n",
    "    if E < (Z**2 * R / n**2):\n",
    "        return 0.\n",
    "    else:\n",
    "        for l_index in range(int(n)):\n",
    "            sigma_weighted += ((2*l_index) + 1)* total_sigma_bf(v,Z,l_index,n) \n",
    "    return sigma_weighted / (n**2)\n",
    "\n",
    "def gamma_fb(v,Z, n, T): #equation 4.23 of Osterbrock\n",
    "    #v is the frequency\n",
    "    an = a_n(v, Z, n)\n",
    "    part1 = (2/np.pi)**(0.5)*np.exp(((Z**2)*R)/n**2)/((c**2)*((e_mass*k*T)**(3/2)))\n",
    "    part2 = 2*(n**2)*h*((h*v)**3)*an*np.exp((-h*v)/(k*T))\n",
    "    return part1*part2\n",
    "    \n",
    "def emissivity(Np, Ne, gamma): #equation 4.22 of Osterbrock\n",
    "    #Np= number density of protons\n",
    "    Ne=10e-4 #number density of electrons, from table 4.6 of Osterbrock\n",
    "    Jv= Nt*Ne*gamma/ (4.*np.pi)\n",
    "    return Jv\n",
    "\n",
    "def Lyman_C(gamma): #equation from Ono et al. 2010 fig 4 \n",
    "    alpha_b= 1.37e-14 #case B recombination coefficient for hydrogen cm3 s-1 -- table 4.6 in Osterbrock\n",
    "    fesc=0.1 # escape fraction of radiation\n",
    "    Nlyc=1.47234061733e+53 #Number of LyC photons/ s --comes from our pop synthesis model\n",
    "    Lv=gamma * (1-fesc) * Nlyc / alpha_b\n",
    "    return Lv\n",
    "    \n",
    "def summed_emission_coefficient(v, Z, n, T):\n",
    "    gamma_total = 0\n",
    "    for n_index in range(int(n)):\n",
    "        if n_index == 0:\n",
    "            gamma_total+=0\n",
    "        else:\n",
    "            gamma_total+= gamma_fb(v,Z,n_index,T)\n",
    "    return gamma_total\n"
   ]
  },
  {
   "cell_type": "markdown",
   "metadata": {},
   "source": [
    "## Call the functions here"
   ]
  },
  {
   "cell_type": "markdown",
   "metadata": {},
   "source": [
    "A common list of inputs"
   ]
  },
  {
   "cell_type": "code",
   "execution_count": 5,
   "metadata": {
    "collapsed": true
   },
   "outputs": [],
   "source": [
    "# a list of wavelength in micrometers\n",
    "wavelength = np.logspace(-1, 1, 1000)\n",
    "\n",
    "# a corresponding list of frequency in Hz\n",
    "frequency = (c / (wavelength * 10**-4))"
   ]
  },
  {
   "cell_type": "code",
   "execution_count": 6,
   "metadata": {
    "collapsed": true
   },
   "outputs": [],
   "source": [
    "# Bound free \n",
    "\n",
    "#reproducing the final plot\n",
    "\n",
    "# Constants in CGS units: http://www.astro.wisc.edu/~dolan/constants.html, thanks Enia <3\n",
    "R = 2.1798741e-11 # Rydber's constant [erg]\n",
    "c = 2.99792458e10 # speed of light [cm s-1.]\n",
    "e_charge = 4.8032068e-10 # electron charge [esu]\n",
    "e_mass = 9.1093897e-28 # electron mass [g]\n",
    "h = 6.6260755e-27 # planck's constant [erg s]\n",
    "k = 1.380658e-16 #Boltzmann constant [erg K-1]\n",
    "n = 10. \n",
    "l = 0\n",
    "Z = 1.\n",
    "T= 10000. #K\n",
    "\n",
    "y_bf=[]\n",
    "for i in range(len(frequency)):\n",
    "    y_bf.append(frequency[i]*summed_emission_coefficient(frequency[i], Z, n, T))\n",
    "\n",
    "#plt.plot(wavelength, y_bf)\n",
    "#plt.xscale('log')\n",
    "#plt.yscale('log')\n",
    "#plt.ylim(10e-28,10e-26)\n",
    "#plt.xlabel('Wavelength (microns)')\n",
    "#plt.ylabel(r'$\\nu\\gamma_{\\nu} (erg  cm^3  s^{-1})$')\n",
    "#plt.show()"
   ]
  },
  {
   "cell_type": "markdown",
   "metadata": {},
   "source": [
    "Inputs specific to free-free emission"
   ]
  },
  {
   "cell_type": "code",
   "execution_count": 7,
   "metadata": {
    "collapsed": true
   },
   "outputs": [],
   "source": [
    "# Temperature\n",
    "T = 10000"
   ]
  },
  {
   "cell_type": "markdown",
   "metadata": {},
   "source": [
    "Calling free-free emission code"
   ]
  },
  {
   "cell_type": "code",
   "execution_count": 8,
   "metadata": {
    "collapsed": true
   },
   "outputs": [],
   "source": [
    "freefree = gamff(T, wavelength)"
   ]
  },
  {
   "cell_type": "markdown",
   "metadata": {},
   "source": [
    "## Combine outputs here"
   ]
  },
  {
   "cell_type": "code",
   "execution_count": 11,
   "metadata": {},
   "outputs": [
    {
     "name": "stderr",
     "output_type": "stream",
     "text": [
      "/Users/amandaquirk/two_photon.py:84: RuntimeWarning: invalid value encountered in power\n",
      "  A = C*(y*(1-(4*y)**gamma)+delta*y**beta*(4*y)**gamma)\n"
     ]
    }
   ],
   "source": [
    "lam_2ph, y_2ph, ynu_2ph = two_ph(T, 1e0) #1 particle/cc\n",
    "ff_bf_comb=[np.pi*4*a+b for a,b in zip(y_bf, freefree)]"
   ]
  },
  {
   "cell_type": "markdown",
   "metadata": {},
   "source": [
    "## Plot here "
   ]
  },
  {
   "cell_type": "code",
   "execution_count": 12,
   "metadata": {},
   "outputs": [
    {
     "data": {
      "image/png": "[encoded data removed]",
      "text/plain": [
       "<matplotlib.figure.Figure at 0x10a291080>"
      ]
     },
     "metadata": {},
     "output_type": "display_data"
    }
   ],
   "source": [
    "#plt.loglog(wavelength, freefree)\n",
    "\n",
    "plt.figure(figsize=(7,5))\n",
    "# label axis \n",
    "plt.loglog(lam_2ph,ynu_2ph, basex=10, basey=10)\n",
    "plt.plot(wavelength, ff_bf_comb)\n",
    "plt.xscale('log')\n",
    "plt.yscale('log')\n",
    "plt.ylim(1e-26, 2e-23)\n",
    "plt.xlabel('Wavelength (microns)')\n",
    "plt.ylabel(r'$\\nu\\gamma_{\\nu} (erg \\; cm^3 \\; s^{-1})$')\n",
    "\n",
    "plt.show()"
   ]
  },
  {
   "cell_type": "markdown",
   "metadata": {
    "collapsed": true
   },
   "source": [
    "## Lyman Continuum from parts 2 and 3"
   ]
  },
  {
   "cell_type": "code",
   "execution_count": 24,
   "metadata": {},
   "outputs": [
    {
     "name": "stdout",
     "output_type": "stream",
     "text": [
      "[2.161711362220799e+23, 2.3060230295796499e+23, 2.4592074220031745e+23, 2.6217596351482317e+23, 2.7941992918139165e+23, 2.9770715818404919e+23, 3.1709483370691751e+23, 3.3764291421214732e+23, 3.5941424817553521e+23, 3.8247469255521776e+23, 4.0689323506835078e+23, 4.3274212035034728e+23, 4.6009698007040282e+23, 4.8903696707650532e+23, 5.1964489364218622e+23, 5.5200737388631056e+23, 5.8621497043623466e+23, 6.2236234540330515e+23, 6.6054841573855257e+23, 7.0087651303483283e+23, 7.4345454784018348e+23, 7.8839521451283343e+23, 8.3581833940470315e+23, 8.8584460485117271e+23, 9.3860199697991376e+23, 9.9422397390269838e+23, 1.0528496584453051e+24, 1.1146240357911786e+24, 1.1796981560866096e+24, 1.2482293420520296e+24, 1.3203814016413419e+24, 1.3963248457879733e+24, 1.476237111273113e+24, 1.5603027887483759e+24, 1.6487138559413167e+24, 1.7416699160688317e+24, 1.8393784414795161e+24, 1.9420550225421032e+24, 2.0499236217930121e+24, 2.1632168333517636e+24, 2.2821761476086833e+24, 2.4070522211845899e+24, 2.5381051521577725e+24, 2.6756047605484593e+24, 2.8198308740460936e+24, 2.9710736189599255e+24, 3.1296337163675812e+24, 3.2958227834315271e+24, 3.4699636398476248e+24, 3.6523906193841174e+24, 3.8434498864642598e+24, 4.0434997577391013e+24, 4.2529110285918186e+24, 4.4720673045085452e+24, 4.7013653372441192e+24, 4.9412153657056788e+24, 5.1920414614699193e+24, 5.4542818788437868e+24, 5.7283894093717644e+24, 6.0148317406859938e+24, 6.3140918195895176e+24, 6.6266682192549121e+24, 6.9530755104150309e+24, 7.2938446364151958e+24, 7.6495232919884403e+24, 8.0206763056103084e+24, 8.4078860252804328e+24, 8.8117527075729075e+24, 9.2328949097895017e+24, 9.6719498850426884e+24, 1.0129573980089007e+25, 1.0606443035725156e+25, 1.1103252789553297e+25, 1.1620719280914111e+25, 1.2159579257779415e+25, 1.272059058538979e+25, 1.3304532656414118e+25, 1.3912206802402777e+25, 1.4544436706298806e+25, 1.5202068815763385e+25, 1.588597275706799e+25, 1.6597041749295624e+25, 1.7336193018589859e+25, 1.8104368212182696e+25, 1.8902533811925451e+25, 1.9731681547042774e+25, 2.0592828805821005e+25, 2.1487019045938132e+25, 2.241532220313783e+25, 2.3378835097940003e+25, 2.4378681840081215e+25, 2.5416014230367174e+25, 2.6492012159618559e+25, 2.7607884004383616e+25, 2.8764867019089867e+25, 2.9964227724297418e+25, 3.1207262290718267e+25, 3.2495296918656816e+25, 3.3829688212526816e+25, 3.5211823550093486e+25, 3.6643121446087514e+25, 3.8125031909835689e+25, 3.9659036796547404e+25, 4.1246650151896682e+25, 4.2889418549534976e+25, 4.4588921421168435e+25, 4.634677137883257e+25, 4.8164614528995006e+25, 5.0044130778116439e+25, 5.1987034129297806e+25, 5.3995072969642787e+25, 5.6070030347964216e+25, 5.8213724242462843e+25, 6.0428007818005764e+25, 6.2714769672636427e+25, 6.5075934072944948e+25, 6.7513461177932478e+25, 7.0029347251003016e+25, 7.2625624859717102e+25, 7.5304363062949416e+25, 7.8067667585087085e+25, 8.0917710047873222e+25, 8.3856872150518083e+25, 8.6887159236659074e+25, 9.001082616710938e+25, 9.3230165170051669e+25, 9.6547505931164078e+25, 9.9965215668400166e+25, 1.0348569919109567e+26, 1.0711139894308552e+26, 1.1084479502951753e+26, 1.1468840522705898e+26, 1.1864478497719401e+26, 1.2271652736232027e+26, 1.26906263064365e+26, 1.3121666030563593e+26, 1.3565042477164399e+26, 1.4021029951563972e+26, 1.4489906484460126e+26, 1.4971953818644659e+26, 1.5467457393822279e+26, 1.5976706329505878e+26, 1.6499993405966033e+26, 1.7037615043215487e+26, 1.7589871278007374e+26, 1.8157065738831519e+26, 1.8739505618889101e+26, 1.9337501647031551e+26, 1.9951368056647873e+26, 2.058142255248674e+26, 2.1227986275401272e+26, 2.1891383765004283e+26, 2.2571942920225139e+26, 2.3269994957757911e+26, 2.3985874368394904e+26, 2.4719918871237195e+26, 2.5472469365779113e+26, 2.6243869881861814e+26, 2.7034467527493777e+26, 2.7844612434537335e+26, 2.8674657702261389e+26, 2.952495933876177e+26, 3.0395876200252983e+26, 3.1287769928234949e+26, 3.2201004884540556e+26, 3.3135948084271916e+26, 3.4092969126633269e+26, 3.5072440123670415e+26, 3.60747356269286e+26, 3.7100232552041026e+26, 3.8149310101262738e+26, 3.9222349683964666e+26, 4.0319734835105386e+26, 4.1441851131699273e+26, 4.258908610729976e+26, 4.3761829164519573e+26, 4.4960471485610249e+26, 4.6185405941124742e+26, 4.7437026996688806e+26, 4.871573061790707e+26, 5.0021914173431774e+26, 5.1355976336223869e+26, 5.2718316983036942e+26, 5.4109337092155241e+26, 5.552943863941983e+26, 5.6979024492575737e+26, 5.8458498303978265e+26, 5.9968264401691795e+26, 6.1508727679022575e+26, 6.3080293482523061e+26, 6.4683367498506334e+26, 6.6318355638117465e+26, 6.7985663920997117e+26, 6.9685698357588747e+26, 7.1418864830127642e+26, 7.3185568972360835e+26, 7.4986216048045725e+26, 7.6821210828271285e+26, 7.8690957467654462e+26, 8.0595859379460114e+26, 8.2536319109691738e+26, 8.4512738210211497e+26, 8.6525517110933513e+26, 8.8575054991149986e+26, 9.0661749650039851e+26, 9.2785997376415399e+26, 9.4948192817762701e+26, 9.7148728848631939e+26, 9.9387996438430787e+26, 1.0166638451868313e+27, 1.0398427984980407e+27, 1.0634206688745484e+27, 1.0874012764853489e+27, 1.1117884157686497e+27, 1.1365858540862899e+27, 1.1617973303762546e+27, 1.1874265538039546e+27, 1.2134772024128375e+27, 1.2399529217749248e+27, 1.2668573236419194e+27, 1.2941939845974415e+27, 1.3219674554449411e+27, 1.3501840229991303e+27, 1.3788435855588664e+27, 1.4079495722715624e+27, 1.4375053705357383e+27, 1.4675143246736687e+27, 1.4979797346094432e+27, 1.5289048545529871e+27, 1.5602928916907209e+27, 1.5921470048833758e+27, 1.6244703033716474e+27, 1.6572658454902333e+27, 1.6905366373908329e+27, 1.7242856317747649e+27, 1.7585157266356751e+27, 1.793229764013063e+27, 1.8284305287570361e+27, 1.8641207473050183e+27, 1.9003030864708357e+27, 1.9369801522468533e+27, 1.9741544886196324e+27, 2.0118285763996998e+27, 2.0500048320659392e+27, 2.0886856066251665e+27, 2.1278731844873717e+27, 2.1675697823571768e+27, 2.2077775481420143e+27, 2.2484985598774876e+27, 2.2897348246704554e+27, 2.3314882776603001e+27, 2.373760780998823e+27, 2.4165541228492818e+27, 2.4598700164050005e+27, 2.5037100989279566e+27, 2.5480759308078549e+27, 2.5929689946420419e+27, 2.6383906943367143e+27, 2.6843423542298038e+27, 2.7308252182359159e+27, 2.7778404490137576e+27, 2.8253891271563279e+27, 2.8734722504043299e+27, 2.9220907328830732e+27, 2.9712454043632141e+27, 3.020937009545706e+27, 3.0711662073711751e+27, 3.1219335703541091e+27, 3.173239583942068e+27, 3.2250846459002503e+27, 3.2774690657216167e+27, 3.330393064062872e+27, 3.3838567722064772e+27, 3.4378602315489497e+27, 3.4924033931156833e+27, 3.5474861171024088e+27, 3.6031081724435203e+27, 3.6592692364074785e+27, 3.7159688942193158e+27, 3.7732066387105542e+27, 3.8309818699965212e+27, 2.370876918567207e+27, 2.4094884130828046e+27, 2.4485115695260376e+27, 2.4879470159590243e+27, 2.5277953208840511e+27, 2.568056992767681e+27, 2.6087324795803522e+27, 2.6498221683515934e+27, 2.6913263847410903e+27, 2.7332453926256883e+27, 2.7755793937025421e+27, 2.8183285271086052e+27, 2.8614928690564464e+27, 2.9050724324867182e+27, 2.9490671667372609e+27, 2.9934769572290423e+27, 3.0383016251690178e+27, 3.0835409272700074e+27, 3.1291945554877105e+27, 3.1752621367749571e+27, 3.2217432328532106e+27, 3.2686373400015377e+27, 3.3159438888629251e+27, 3.3636622442682109e+27, 3.4117917050774794e+27, 3.4603315040391748e+27, 3.5092808076667967e+27, 3.5586387161332704e+27, 3.608404263183143e+27, 3.6585764160623312e+27, 3.709154075465801e+27, 3.7601360755028496e+27, 3.8115211836801847e+27, 3.8633081009027677e+27, 3.9154954614922968e+27, 3.9680818332234472e+27, 4.0210657173777363e+27, 4.0744455488150145e+27, 4.1282196960625331e+27, 4.1823864614215629e+27, 4.2369527881523419e+27, 4.2919274936104818e+27, 4.3472901734995372e+27, 4.4030388798125608e+27, 4.4591715991742747e+27, 4.5156862530498318e+27, 4.5725806979705144e+27, 4.6298527257762584e+27, 4.6875000638750405e+27, 4.7455203755187215e+27, 4.8039112600955647e+27, 4.8626702534390504e+27, 4.9217948281529381e+27, 4.9812823939524923e+27, 5.0411302980216341e+27, 5.1013358253859431e+27, 5.1618961993013115e+27, 5.2228085816580571e+27, 5.28407007340052e+27, 5.3456777149616452e+27, 5.4076284867126953e+27, 5.4699193094277411e+27, 5.5325470447627536e+27, 5.5955084957492231e+27, 5.6588004073019216e+27, 5.7224194667408342e+27, 5.7863623043268266e+27, 5.8506254938110677e+27, 5.9152055529978295e+27, 5.9800989443205141e+27, 6.045302075430751e+27, 6.1108112998001089e+27, 6.1766229173346846e+27, 6.2427331750016631e+27, 6.3091382674682575e+27, 6.3758343377524006e+27, 6.4428174778850586e+27, 6.5100837295840391e+27, 6.5776290849388387e+27, 6.6454494871064603e+27, 6.7135408310179134e+27, 6.7818989640950572e+27, 6.8505196869776736e+27, 6.9193987542603971e+27, 6.9885318752393175e+27, 7.0579147146680115e+27, 7.127542893522612e+27, 7.1974119897758899e+27, 7.2675175391797643e+27, 7.3378550360563592e+27, 7.4084199340970168e+27, 7.4792076471691265e+27, 7.5502135501305881e+27, 7.6214329796514584e+27, 7.6928612350426859e+27, 7.7644935790915495e+27, 7.8363252389035392e+27, 7.9083514067505874e+27, 7.9805672409249993e+27, 8.0529678665992335e+27, 8.125548376691046e+27, 8.1983038327336758e+27, 8.2712292657509286e+27, 8.3443196771368388e+27, 8.4175700395396866e+27, 8.490975297749943e+27, 8.5645303695921035e+27, 8.6382301468199626e+27, 8.7120694960151312e+27, 8.7860432594885422e+27, 8.8601462561846292e+27, 8.9343732825879715e+27, 9.0087191136321295e+27, 9.083178503610326e+27, 9.1577461870878755e+27, 9.2324168798159092e+27, 9.3071852796463227e+27, 9.3820460674475493e+27, 9.4569939080209422e+27, 9.5320234510176579e+27, 9.6071293318554436e+27, 9.6823061726354953e+27, 9.7575485830588662e+27, 9.8328511613421964e+27, 9.9082084951326878e+27, 9.9836151624219369e+27, 1.0059065732458367e+28, 1.0134554766658198e+28, 1.0210076819514463e+28, 1.0285626439504169e+28, 1.0361198169992979e+28, 1.0436786550137597e+28, 1.0512386115785277e+28, 1.0587991400370471e+28, 1.0663596935808369e+28, 1.0739197253384931e+28, 1.081478688464347e+28, 1.0890360362267381e+28, 1.0965912220958834e+28, 1.1041436998313422e+28, 1.1116961480879998e+28, 1.1192494192751642e+28, 1.1267984949205544e+28, 1.1343428318841396e+28, 1.1418818877394401e+28, 1.1494151208579305e+28, 1.1569419904928947e+28, 1.1644619568627196e+28, 1.1719744812335902e+28, 1.1794790260015918e+28, 1.1869750547741831e+28, 1.1944620324510374e+28, 1.2019394253042271e+28, 1.2094067010577448e+28, 1.2168633289663322e+28, 1.2243087798936211e+28, 1.2317425263895498e+28, 1.239164042767061e+28, 1.2465728051780467e+28, 1.2539682916885493e+28, 1.2613499823531937e+28, 1.2687173592888218e+28, 1.2760699067473561e+28, 1.2834071111878364e+28, 1.2907284613476618e+28, 1.2980334483129721e+28, 1.3053215655882218e+28, 1.3125923091648789e+28, 1.3198451775892759e+28, 1.3270796720295771e+28, 1.334295296341883e+28, 1.3414915571354275e+28, 1.348667963836877e+28, 1.3558240287537329e+28, 1.3629592671368126e+28, 1.3700731972417906e+28, 9.7328097756586561e+27, 9.7904188591806813e+27, 9.8479512411151842e+27, 9.9054032414180103e+27, 9.9627711907758645e+27, 1.00200514310843e+28, 1.007724031592143e+28, 1.0134334211017626e+28, 1.019132949472057e+28, 1.0248222558456212e+28, 1.0305009807185202e+28, 1.0361687659854694e+28, 1.0418252549845728e+28, 1.0474700925415874e+28, 1.0531029250137195e+28, 1.0587234003329407e+28, 1.0643311680488291e+28, 1.0699258793709131e+28, 1.0755071872105271e+28, 1.0810747462221663e+28, 1.0866282128443393e+28, 1.0921672453399054e+28, 1.0976915038359057e+28, 1.1032006503628668e+28, 1.1086943488935961e+28, 1.1141722653814208e+28, 1.1196340677979341e+28, 1.1250794261701713e+28, 1.1305080126172628e+28, 1.1359195013865469e+28, 1.1413135688891275e+28, 1.1466898937348804e+28, 1.1520481567669163e+28, 1.157388041095482e+28, 1.1627092321312992e+28, 1.1680114176183544e+28, 1.1732942876660986e+28, 1.1785575347811208e+28, 1.1838008538982143e+28, 1.1890239424108964e+28, 1.1942265002013396e+28, 1.1994082296697455e+28, 1.2045688357631314e+28, 1.2097080260035379e+28, 1.2148255105156713e+28, 1.2199210020539572e+28, 1.2249942160290018e+28, 1.2300448705335038e+28, 1.2350726863675542e+28, 1.2400773870633621e+28, 1.2450586989094158e+28, 1.2500163509740247e+28, 1.254950075128319e+28, 1.2598596060686297e+28, 1.264744681338317e+28, 1.2696050413489853e+28, 1.2744404294011463e+28, 1.2792505917042757e+28, 1.2840352773963065e+28, 1.2887942385625292e+28, 1.2935272302539175e+28, 1.2982340105048868e+28, 1.3029143403504493e+28, 1.3075679838428264e+28, 1.312201646416287e+28, 1.3168147776357541e+28, 1.3214006946908999e+28, 1.3259591741818416e+28, 1.3304899957920042e+28, 1.3349929423012978e+28, 1.3394677995987408e+28, 1.3439143566945282e+28, 1.3483324057315217e+28, 1.3527217419962065e+28, 1.3570821639290805e+28, 1.3614134731345032e+28, 1.3657154743899909e+28, 1.369987975654963e+28, 1.3742307880789621e+28, 1.3784437260093091e+28, 1.3826266069982508e+28, 1.3867792518095533e+28, 1.3909014844245774e+28, 1.3949931320478225e+28, 1.3990540251119454e+28, 1.4030839972822645e+28, 1.4070828854607514e+28, 1.4110505297895028e+28, 1.4149867736536875e+28, 1.4188914636840415e+28, 1.4227644497587968e+28, 1.4266055850051584e+28, 1.4304147258002692e+28, 1.4341917317716919e+28, 1.4379364657973933e+28, 1.4416487940052769e+28, 1.4453285857722027e+28, 1.4489757137225579e+28, 1.4525900537263545e+28, 1.4561714848968611e+28, 1.4597198895877742e+28, 1.4632351533899374e+28, 1.4667171651276155e+28, 1.4701658168543053e+28, 1.4735810038481284e+28, 1.4769626246067733e+28, 1.4803105808420051e+28, 1.4836247774737581e+28, 1.48690512262379e+28, 1.4901515276089535e+28, 1.4933639069339975e+28, 1.496542178284026e+28, 1.4996862625165005e+28, 1.50279608365288e+28, 1.5058715688698537e+28, 1.5089126484901888e+28, 1.5119192559731905e+28, 1.5148913279047992e+28, 1.5178288039872932e+28, 1.5207316270286478e+28, 1.5235997429315201e+28, 1.5264331006818679e+28, 1.5292316523372409e+28, 1.5319953530147047e+28, 1.5347241608784245e+28, 1.1685615979453525e+28, 1.1713147442806875e+28, 1.1740444081211351e+28, 1.1767505139889945e+28, 1.179432988480134e+28, 1.1820917602615021e+28, 1.1847267600683974e+28, 1.1873379207015017e+28, 1.1899251770236601e+28, 1.1924884659564344e+28, 1.1950277264764109e+28, 1.1975428996112841e+28, 1.2000339284356966e+28, 1.2025007580668589e+28, 1.2049433356599408e+28, 1.2073616104032394e+28, 1.209755533513122e+28, 1.2121250582287537e+28, 1.2144701398066043e+28, 1.2167907355147529e+28, 1.2190868046269578e+28, 1.2213583084165453e+28, 1.223605210150073e+28, 1.2258274750807945e+28, 1.2280250704419231e+28, 1.2301979654397052e+28, 1.2323461312462759e+28, 1.2344695409923531e+28, 1.2365681697597015e+28, 1.2386419945734534e+28, 1.2406909943942036e+28, 1.242715150109947e+28, 1.2447144445278201e+28, 1.2466888623656797e+28, 1.2486383902434989e+28, 1.2505630166745809e+28, 1.2524627320566234e+28, 1.2543375286626075e+28, 1.2561874006315141e+28, 1.2580226147654142e+28, 1.2598393894273385e+28, 1.2616313590018732e+28, 1.2633985248335176e+28, 1.265140890079856e+28, 1.2668584597013962e+28, 1.2685512404512408e+28, 1.2702192408646459e+28, 1.2718624712484039e+28, 1.2734809436701191e+28, 1.2750746719473318e+28, 1.2766436716365155e+28, 1.2781879600219404e+28, 1.2797075561044074e+28, 1.2812024805898734e+28, 1.282672755877923e+28, 1.2841184060501558e+28, 1.2855394568584325e+28, 1.2869359357130197e+28, 1.2883078716706019e+28, 1.2896552954222197e+28, 1.2909782392810712e+28, 1.2922767371702134e+28, 1.2935508246101751e+28, 1.2948005387064612e+28, 1.2960259181369587e+28, 1.2972270031392528e+28, 1.2984038354978519e+28, 1.2995564585313184e+28, 1.3006849170793136e+28, 1.3017892574895687e+28, 1.3028695276047579e+28, 1.3039257767493079e+28, 1.3049580557161072e+28, 1.3059664167531735e+28, 1.3069509135502261e+28, 1.3079116012251862e+28, 1.3088485363106273e+28, 1.3097617767401496e+28, 1.3106513818346882e+28, 1.3115174122887722e+28, 1.3123599301567158e+28, 1.3131789988387568e+28, 1.3139746830671499e+28, 1.3147470488921963e+28, 1.3154961636682289e+28, 1.3162220960395493e+28, 1.3169249159263383e+28, 1.3176046945104954e+28, 1.3182615042214482e+28, 1.3188954187219471e+28, 1.3195065128937955e+28, 1.3200948628235493e+28, 1.3206605457882062e+28, 1.3212036402408511e+28, 1.3217242257962642e+28, 1.3222223832165316e+28, 1.322698194396611e+28, 1.0526304542880691e+28, 1.0535662382147624e+28, 1.0544854078143515e+28, 1.0553879979532235e+28, 1.0562740444110187e+28, 1.0571435838726146e+28, 1.057996653920077e+28, 1.0588332930245592e+28, 1.0596535405381805e+28, 1.0604574366858532e+28, 1.0612450225570857e+28, 1.0620163400977471e+28, 1.0627714321018022e+28, 1.0635103422030111e+28, 1.064233114866596e+28, 1.0649397953808951e+28, nan, nan, nan, nan, nan, nan, nan, nan, nan, nan, nan, nan, nan, nan, nan, nan, nan, nan, nan, nan, nan, nan, nan, nan, nan, nan, nan, nan, nan, nan, nan, nan, nan, nan, nan, nan, nan, nan, nan, nan, nan, nan, nan, nan, nan, nan, nan, nan, nan, nan, nan, nan, nan, nan, nan, nan, nan, nan, nan, nan, nan, nan, nan, nan, nan, nan, nan, nan, nan, nan, nan, nan, nan, nan, nan, nan, nan, nan, nan, nan, nan, nan, nan, nan, nan, nan, nan, nan, nan, nan, nan, nan, nan, nan, nan, nan, nan, nan, nan, nan, nan, nan, nan, nan, nan, nan, nan, nan, nan, nan, nan, nan, nan, nan, nan, nan, nan, nan, nan, nan, nan, nan, nan, nan, nan, nan, nan, nan, nan, nan, nan, nan, nan, nan, nan, nan, nan, nan, nan, nan, nan, nan, nan, nan, nan, nan, nan, nan, nan, nan, nan, nan, nan, nan, nan, nan, nan, nan, nan, nan, nan, nan, nan, nan, nan, nan, nan, nan, nan, nan, nan, nan, nan, nan, nan, nan, nan, nan, nan, nan, nan, nan, nan, nan, nan, nan, nan, nan, nan, nan, nan, nan, nan, nan, nan, nan, nan, nan, nan, nan, nan, nan, nan, nan, nan, nan, nan, nan, nan, nan, nan, nan, nan, nan, nan, nan, nan, nan, nan, nan, nan, nan, nan, nan, nan, nan, nan, nan, nan, nan, nan, nan, nan, nan, nan, nan, nan, nan, nan, nan, nan, nan, nan, nan, nan, nan, nan, nan, nan, nan, nan, nan, nan, nan, nan, nan, nan, nan, nan, nan, nan, nan, nan, nan, nan, nan, nan, nan, nan, nan, nan, nan, nan, nan, nan, nan, nan, nan, nan, nan, nan, nan, nan, nan, nan, nan, nan, nan, nan, nan, nan, nan, nan, nan, nan, nan, nan, nan, nan, nan, nan, nan, nan, nan, nan]\n"
     ]
    }
   ],
   "source": [
    "LyC=[]\n",
    "for i in range(len(frequency)):\n",
    "    gamma_total=(ff_bf_comb[i]+y_2ph[i])/frequency[i]\n",
    "    LyC.append(Lyman_C(gamma_total))\n",
    "print(LyC) #units erg-- this is a luminosity density"
   ]
  },
  {
   "cell_type": "code",
   "execution_count": 15,
   "metadata": {},
   "outputs": [
    {
     "name": "stdout",
     "output_type": "stream",
     "text": [
      "4.836155312397811e+67\n"
     ]
    }
   ],
   "source": [
    "print(Lyman_C(5))"
   ]
  },
  {
   "cell_type": "code",
   "execution_count": null,
   "metadata": {
    "collapsed": true
   },
   "outputs": [],
   "source": []
  }
 ],
 "metadata": {
  "kernelspec": {
   "display_name": "Python 3",
   "language": "python",
   "name": "python3"
  },
  "language_info": {
   "codemirror_mode": {
    "name": "ipython",
    "version": 3
   },
   "file_extension": ".py",
   "mimetype": "text/x-python",
   "name": "python",
   "nbconvert_exporter": "python",
   "pygments_lexer": "ipython3",
   "version": "3.6.2"
  }
 },
 "nbformat": 4,
 "nbformat_minor": 2
}
