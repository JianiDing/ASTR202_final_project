{
 "cells": [
  {
   "cell_type": "markdown",
   "metadata": {},
   "source": [
    "# Problem 6 Joint Notebook"
   ]
  },
  {
   "cell_type": "markdown",
   "metadata": {},
   "source": [
    "## Imports go here"
   ]
  },
  {
   "cell_type": "markdown",
   "metadata": {},
   "source": [
    "Imports for Problem 2, free-free emission"
   ]
  },
  {
   "cell_type": "code",
   "execution_count": 10,
   "metadata": {},
   "outputs": [],
   "source": [
    "import matplotlib.pylab as plt\n",
    "import numpy as np\n",
    "from scipy import interpolate"
   ]
  },
  {
   "cell_type": "markdown",
   "metadata": {},
   "source": [
    "## Generate functions here "
   ]
  },
  {
   "cell_type": "markdown",
   "metadata": {},
   "source": [
    "Code for Problem 2, free-free emission  \n",
    "Make sure gauntff_noerr.dat is in a place where this notebook can grab it!!!"
   ]
  },
  {
   "cell_type": "code",
   "execution_count": 11,
   "metadata": {},
   "outputs": [],
   "source": [
    "### Interpolation of free-free gaunt factor ###\n",
    "\n",
    "# read in the data table for free free gaunt factor\n",
    "# this is basically our 'z' data\n",
    "g_table = 'gauntff_noerr.dat'\n",
    "g_data = np.loadtxt(g_table, skiprows=42) # skipping the header\n",
    "\n",
    "# follow the header to get log(u) and log(gam2) values for\n",
    "# interpolation   \n",
    "g_logu = np.arange(-16, 13.2, 0.2)\n",
    "g_loggam2 = np.arange(-6, 10.2, 0.2)\n",
    "\n",
    "# create the interpolation\n",
    "g_interp = interpolate.interp2d(g_loggam2, g_logu, g_data)\n",
    "\n",
    "### Evaluation of formula ###\n",
    "\n",
    "# fundamental constants\n",
    "Ry = 2.17987e-11 # erg\n",
    "h = 6.62606885e-27 # erg * s\n",
    "k = 1.3807e-16 # erg * k^-1\n",
    "c = 2.998e10 # cm / s\n",
    "\n",
    "# get gam2 and u in terms of T and nu\n",
    "gam2 = lambda T: Ry/(k * T)\n",
    "u = lambda T, nu: (h * nu) / (k * T)\n",
    "\n",
    "# main function to be evaluated \n",
    "\n",
    "def gamff (T, lamb):\n",
    "    # convert a wavelength (lamb) in micrometers to a frequency\n",
    "    nu = (c / (lamb * 10**-4))\n",
    "    \n",
    "    # interpolate the gaunt factor\n",
    "    gff = g_interp(np.log10(gam2(T)),np.log10(u(T, nu)))\n",
    "    \n",
    "    # transpose the matrix. This is just for consistensy sake with the \n",
    "    # horizontal inputs \n",
    "    gff = np.resize(gff, (1000,))\n",
    "    \n",
    "    # evaluate the function \n",
    "    output = 5.44 * 10**(-39) * (4*np.pi) * (T**(-1/2)) * gff * np.exp(-h * nu/(k * T)) * nu\n",
    "    return output"
   ]
  },
  {
   "cell_type": "markdown",
   "metadata": {},
   "source": [
    "## Free Bound"
   ]
  },
  {
   "cell_type": "code",
   "execution_count": 12,
   "metadata": {},
   "outputs": [],
   "source": [
    "# General function for the gaunt factor\n",
    "import math \n",
    "import numpy as np \n",
    "import matplotlib.pyplot as plt \n",
    "\n",
    "def total_sigma_bf(v,Z,l,n):\n",
    "    E = v*h\n",
    "    if E < (Z**2 * R / n**2):\n",
    "        return 0.\n",
    "    sigma_sum = sigma_bf_below(n, l, v, Z) + sigma_bf_above(n, l, v, Z)\n",
    "\n",
    "    return sigma_sum\n",
    "\n",
    "def get_gaunt_factor_bf(v, Z, n, E):\n",
    "    sigma_bf = a_n(v,Z,n)\n",
    "    sigma_k = get_kramer_sigma(n, E, Z)\n",
    "    \n",
    "    return sigma_bf/sigma_k\n",
    "\n",
    "# Kramer's cross section (39)\n",
    "def get_kramer_sigma(n, E, Z): \n",
    "    \n",
    "    eta = math.sqrt(Z*Z*R/E)\n",
    "    rho = eta/n\n",
    "\n",
    "    kramer_sigma = 2.**4./(3*math.sqrt(3.))*e_charge**2./(e_mass*c*v) *1./n *(rho**2/(1+rho**2))**2. \n",
    "    return kramer_sigma\n",
    "\n",
    "# Quantum cross section going to l-1 (36)\n",
    "def sigma_bf_below(n, l, v, Z): \n",
    "    \n",
    "    E = v*h\n",
    "    eta = math.sqrt(Z*Z*R/E)\n",
    "    rho = eta/n\n",
    "\n",
    "    p1 = math.pi*e_charge**2/(e_mass*c*v)\n",
    "    p2 = 2.**(4*l)/3.\n",
    "    \n",
    "    p3 = l**2 * math.factorial(n+l)\n",
    "    \n",
    "    l = int(l)\n",
    "    \n",
    "    # make sure we're counting for the extreme cases, when l = 0 or 1\n",
    "    if l == 0: \n",
    "        return 0\n",
    "    elif l ==1: \n",
    "        p3 = 1\n",
    "    else:\n",
    "        for i in range(1, l): \n",
    "            p3 *= (i**2 + eta**2)\n",
    "    \n",
    "    # the factorial of a negative number does not exist\n",
    "    if n-l-1<0: \n",
    "        return 0\n",
    "    else:\n",
    "        p4 = math.factorial(2*l+1) *math.factorial(2*l-1) * math.factorial(n-l-1)\n",
    "    \n",
    "    p5 = math.exp(-4*eta*math.atan(1/rho))/(1-math.exp(-2*math.pi*eta))\n",
    "\n",
    "    p6 = rho**(2*l+2)/(1+rho**2)**(2*n-2)\n",
    "    \n",
    "    p7 = (G_l(l,-(l+1-n),eta,rho)-(1+rho**2)**(-2)*G_l(l,-(l-1-n),eta,rho))**2 \n",
    "    \n",
    "    all_together = p1*p2*p3/p4*p5*p6*p7\n",
    "    \n",
    "    return all_together\n",
    "\n",
    "# Quantum cross section going to l+1 (37)\n",
    "def sigma_bf_above(n, l, v, Z): \n",
    "    E = v*h\n",
    "    eta = math.sqrt(Z*Z*R/E)\n",
    "    rho = eta/n\n",
    "    \n",
    "    p1 = math.pi*e_charge**2/(e_mass*c*v)\n",
    "    \n",
    "    p2 = 2.**(4*l+6)/3.\n",
    "    \n",
    "\n",
    "    p3= (l+1)**2 * math.factorial(n+l)\n",
    "\n",
    "    l = int(l)\n",
    "    n = int(n)\n",
    "    \n",
    "    for i in range(1,l+2): \n",
    "        \n",
    "        p3 *= (i**2+eta**2)\n",
    "    \n",
    "    if n-l-1<0: \n",
    "        return 0\n",
    "    else:\n",
    "        p4 = (2*l+1)*math.factorial(2*l+1)*math.factorial(2*l+2)*math.factorial(n-l-1)*((l+1)**2+eta**2)**2\n",
    "    \n",
    "    p5 = math.exp(-4*eta*math.atan(1/rho))/(1-math.exp(-2*math.pi*eta))\n",
    "    \n",
    "    p6 = rho**(2*l+4)*eta**2/(1+rho**2)**(2*n)\n",
    "    \n",
    "    p7 = ((l+1-n)*G_l(l+1,-(l+1-n),eta,rho)+(l+1+n)/(1+rho**2)*G_l(l+1,-(l-n),eta,rho))**2 \n",
    "    \n",
    "    all_together = p1*p2*p3/p4*p5*p6*p7\n",
    "    \n",
    "    return all_together\n",
    "\n",
    "# Bound free matrix element Gl (appendix C)\n",
    "def G_l(l, m, eta, rho): \n",
    "    \n",
    "    m = int(m)\n",
    "    gl = 0\n",
    "    for s in range(0,2*m+1): \n",
    "        gl += b_const(s, l, m, eta, rho)*rho**s\n",
    "    return gl \n",
    "\n",
    "# constant for the Gl free matrix element (Appendix c, eqn c8)\n",
    "def b_const(s, l, m, eta, rho):\n",
    "    \n",
    "    if s==0:\n",
    "        return 1\n",
    "    elif s==1: \n",
    "        return 2*m*eta/l\n",
    "    else:\n",
    "        p1 = (4*eta*(s-1-m))*b_const(s-1, l, m, eta, rho)\n",
    "        p2 = (2*m+2-s)*(2*m+2*l+1-s)*b_const(s-2, l, m,  eta, rho)\n",
    "        return -1./(s*(s+2*l-1))*(p1+p2)\n",
    "    \n",
    "import numpy as np \n",
    "\n",
    "def a_n(v,Z,n): #Matthew and Brown 1970\n",
    "    E = h*v\n",
    "    sigma_weighted = 0\n",
    "    if E < (Z**2 * R / n**2):\n",
    "        return 0.\n",
    "    else:\n",
    "        for l_index in range(int(n)):\n",
    "            sigma_weighted += ((2*l_index) + 1)* total_sigma_bf(v,Z,l_index,n) \n",
    "    return sigma_weighted / (n**2)\n",
    "\n",
    "def gamma_fb(v,Z, n, T): #equation 4.23 of Osterbrock\n",
    "    #v is the frequency\n",
    "    an = a_n(v, Z, n)\n",
    "    part1 = (2/np.pi)**(0.5)*np.exp(((Z**2)*R)/n**2)/((c**2)*((e_mass*k*T)**(3/2)))\n",
    "    part2 = 2*(n**2)*h*((h*v)**3)*an*np.exp((-h*v)/(k*T))\n",
    "    return part1*part2\n",
    "    \n",
    "def emissivity(Np, Ne, gamma): #equation 4.22 of Osterbrock\n",
    "    #Np= number density of protons\n",
    "    Ne=10e-4 #number density of electrons, from table 4.6 of Osterbrock\n",
    "    Jv= Nt*Ne*gamma/ (4.*np.pi)\n",
    "    return Jv\n",
    "\n",
    "def Lyman_C(gamma, alpha_b, fesc, Nlyc): #equation from Ono et al. 2010 fig 4 \n",
    "    alpha_b= 1.37e-14 #case B recombination coefficient for hydrogen cm3 s-1 -- table 4.6 in Osterbrock\n",
    "    fesc=0.1 # escape fraction of radiation\n",
    "    Nlyc=1.47234061733e+53 #Number of LyC photons/ s --comes from our pop synthesis model\n",
    "    Lv=gamma * (1-fesc) * Nlyc / alpha_b\n",
    "    return Lv\n",
    "    \n",
    "def summed_emission_coefficient(v, Z, n, T):\n",
    "    gamma_total = 0\n",
    "    for n_index in range(int(n)):\n",
    "        if n_index == 0:\n",
    "            gamma_total+=0\n",
    "        else:\n",
    "            gamma_total+= gamma_fb(v,Z,n_index,T)\n",
    "    return gamma_total\n"
   ]
  },
  {
   "cell_type": "markdown",
   "metadata": {},
   "source": [
    "## Call the functions here"
   ]
  },
  {
   "cell_type": "markdown",
   "metadata": {},
   "source": [
    "A common list of inputs"
   ]
  },
  {
   "cell_type": "code",
   "execution_count": 13,
   "metadata": {},
   "outputs": [],
   "source": [
    "# a list of wavelength in micrometers\n",
    "wavelength = np.logspace(-1, 1, 1000)\n",
    "\n",
    "# a corresponding list of frequency in Hz\n",
    "frequency = (c / (wavelength * 10**-4))"
   ]
  },
  {
   "cell_type": "code",
   "execution_count": 14,
   "metadata": {},
   "outputs": [],
   "source": [
    "# Bound free \n",
    "\n",
    "#reproducing the final plot\n",
    "\n",
    "# Constants in CGS units: http://www.astro.wisc.edu/~dolan/constants.html, thanks Enia <3\n",
    "R = 2.1798741e-11 # Rydber's constant [erg]\n",
    "c = 2.99792458e10 # speed of light [cm s-1.]\n",
    "e_charge = 4.8032068e-10 # electron charge [esu]\n",
    "e_mass = 9.1093897e-28 # electron mass [g]\n",
    "h = 6.6260755e-27 # planck's constant [erg s]\n",
    "k = 1.380658e-16 #Boltzmann constant [erg K-1]\n",
    "n = 10. \n",
    "l = 0\n",
    "Z = 1.\n",
    "T= 10000. #K\n",
    "\n",
    "y_bf=[]\n",
    "for i in range(len(frequency)):\n",
    "    y_bf.append(frequency[i]*summed_emission_coefficient(frequency[i], Z, n, T))\n",
    "\n",
    "#plt.plot(wavelength, y_bf)\n",
    "#plt.xscale('log')\n",
    "#plt.yscale('log')\n",
    "#plt.ylim(10e-28,10e-26)\n",
    "#plt.xlabel('Wavelength (microns)')\n",
    "#plt.ylabel(r'$\\nu\\gamma_{\\nu} (erg  cm^3  s^{-1})$')\n",
    "#plt.show()"
   ]
  },
  {
   "cell_type": "markdown",
   "metadata": {},
   "source": [
    "Inputs specific to free-free emission"
   ]
  },
  {
   "cell_type": "code",
   "execution_count": 15,
   "metadata": {},
   "outputs": [],
   "source": [
    "# Temperature\n",
    "T = 10000"
   ]
  },
  {
   "cell_type": "markdown",
   "metadata": {},
   "source": [
    "Calling free-free emission code"
   ]
  },
  {
   "cell_type": "code",
   "execution_count": 16,
   "metadata": {},
   "outputs": [],
   "source": [
    "freefree = gamff(T, wavelength)"
   ]
  },
  {
   "cell_type": "markdown",
   "metadata": {},
   "source": [
    "## Combine outputs here"
   ]
  },
  {
   "cell_type": "code",
   "execution_count": 17,
   "metadata": {},
   "outputs": [],
   "source": [
    "ff_bf_comb=y_bf+freefree"
   ]
  },
  {
   "cell_type": "markdown",
   "metadata": {},
   "source": [
    "## Plot here "
   ]
  },
  {
   "cell_type": "code",
   "execution_count": 23,
   "metadata": {},
   "outputs": [
    {
     "data": {
      "image/png": "[encoded data removed]",
      "text/plain": [
       "<matplotlib.figure.Figure at 0x115ae2780>"
      ]
     },
     "metadata": {},
     "output_type": "display_data"
    }
   ],
   "source": [
    "#plt.loglog(wavelength, freefree)\n",
    "\n",
    "# label axis \n",
    "plt.plot(wavelength, ff_bf_comb)\n",
    "plt.xscale('log')\n",
    "plt.yscale('log')\n",
    "plt.ylim(1e-27,1e-25)\n",
    "plt.xlabel('Wavelength (microns)')\n",
    "plt.ylabel(r'$\\nu\\gamma_{\\nu} (erg  cm^3  s^{-1})$')\n",
    "\n",
    "plt.show()"
   ]
  },
  {
   "cell_type": "code",
   "execution_count": null,
   "metadata": {
    "collapsed": true
   },
   "outputs": [],
   "source": []
  }
 ],
 "metadata": {
  "kernelspec": {
   "display_name": "Python 3",
   "language": "python",
   "name": "python3"
  },
  "language_info": {
   "codemirror_mode": {
    "name": "ipython",
    "version": 3
   },
   "file_extension": ".py",
   "mimetype": "text/x-python",
   "name": "python",
   "nbconvert_exporter": "python",
   "pygments_lexer": "ipython3",
   "version": "3.6.4"
  }
 },
 "nbformat": 4,
 "nbformat_minor": 2
}
