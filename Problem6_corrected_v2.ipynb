{
 "cells": [
  {
   "cell_type": "markdown",
   "metadata": {},
   "source": [
    "# Problem 6 Joint Notebook"
   ]
  },
  {
   "cell_type": "markdown",
   "metadata": {},
   "source": [
    "## Imports go here"
   ]
  },
  {
   "cell_type": "markdown",
   "metadata": {},
   "source": [
    "Imports for Problem 2, free-free emission"
   ]
  },
  {
   "cell_type": "code",
   "execution_count": 1,
   "metadata": {
    "collapsed": true
   },
   "outputs": [],
   "source": [
    "import matplotlib.pyplot as plt\n",
    "import numpy as np\n",
    "from scipy import interpolate\n",
    "from two_photon import two_ph"
   ]
  },
  {
   "cell_type": "markdown",
   "metadata": {},
   "source": [
    "## Generate functions here "
   ]
  },
  {
   "cell_type": "markdown",
   "metadata": {},
   "source": [
    "Code for Problem 2, free-free emission  \n",
    "Make sure gauntff_noerr.dat is in a place where this notebook can grab it!!!"
   ]
  },
  {
   "cell_type": "code",
   "execution_count": 2,
   "metadata": {
    "collapsed": true
   },
   "outputs": [],
   "source": [
    "### Interpolation of free-free gaunt factor ###\n",
    "\n",
    "# read in the data table for free free gaunt factor\n",
    "# this is basically our 'z' data\n",
    "g_table = 'gauntff_noerr.dat'\n",
    "g_data = np.loadtxt(g_table, skiprows=42) # skipping the header\n",
    "\n",
    "# follow the header to get log(u) and log(gam2) values for\n",
    "# interpolation   \n",
    "g_logu = np.arange(-16, 13.2, 0.2)\n",
    "g_loggam2 = np.arange(-6, 10.2, 0.2)\n",
    "\n",
    "# create the interpolation\n",
    "g_interp = interpolate.interp2d(g_loggam2, g_logu, g_data)\n",
    "\n",
    "### Evaluation of formula ###\n",
    "\n",
    "# fundamental constants\n",
    "Ry = 2.17987e-11 # erg\n",
    "h = 6.62606885e-27 # erg * s\n",
    "k = 1.3807e-16 # erg * k^-1\n",
    "c = 2.998e10 # cm / s\n",
    "\n",
    "# get gam2 and u in terms of T and nu\n",
    "gam2 = lambda T: Ry/(k * T)\n",
    "u = lambda T, nu: (h * nu) / (k * T)\n",
    "\n",
    "# main function to be evaluated \n",
    "\n",
    "def gamff (T, lamb):\n",
    "    # convert a wavelength (lamb) in micrometers to a frequency\n",
    "    nu = (c / (lamb * 10**-4))\n",
    "    \n",
    "    # interpolate the gaunt factor\n",
    "    gff = g_interp(np.log10(gam2(T)),np.log10(u(T, nu)))\n",
    "    \n",
    "    # transpose the matrix. This is just for consistensy sake with the \n",
    "    # horizontal inputs \n",
    "    gff = np.resize(gff, (1000,))\n",
    "    \n",
    "    # evaluate the function \n",
    "    output = 5.44 * 10**(-39) * (4*np.pi) * (T**(-1/2)) * gff * np.exp(-h * nu/(k * T)) * nu\n",
    "    return output"
   ]
  },
  {
   "cell_type": "markdown",
   "metadata": {},
   "source": [
    "## Free Bound"
   ]
  },
  {
   "cell_type": "code",
   "execution_count": 3,
   "metadata": {
    "collapsed": true
   },
   "outputs": [],
   "source": [
    "# General function for the gaunt factor\n",
    "import math \n",
    "import numpy as np \n",
    "import matplotlib.pyplot as plt \n",
    "\n",
    "def total_sigma_bf(v,Z,l,n):\n",
    "    E = v*h\n",
    "    if E < (Z**2 * R / n**2):\n",
    "        return 0.\n",
    "    sigma_sum = sigma_bf_below(n, l, v, Z) + sigma_bf_above(n, l, v, Z)\n",
    "\n",
    "    return sigma_sum\n",
    "\n",
    "def get_gaunt_factor_bf(v, Z, n, E):\n",
    "    sigma_bf = a_n(v,Z,n)\n",
    "    sigma_k = get_kramer_sigma(n, E, Z)\n",
    "    \n",
    "    return sigma_bf/sigma_k\n",
    "\n",
    "# Kramer's cross section (39)\n",
    "def get_kramer_sigma(n, E, Z): \n",
    "    \n",
    "    eta = math.sqrt(Z*Z*R/E)\n",
    "    rho = eta/n\n",
    "\n",
    "    kramer_sigma = 2.**4./(3*math.sqrt(3.))*e_charge**2./(e_mass*c*v) *1./n *(rho**2/(1+rho**2))**2. \n",
    "    return kramer_sigma\n",
    "\n",
    "# Quantum cross section going to l-1 (36)\n",
    "def sigma_bf_below(n, l, v, Z): \n",
    "    \n",
    "    E = v*h\n",
    "    eta = math.sqrt(Z*Z*R/E)\n",
    "    rho = eta/n\n",
    "\n",
    "    p1 = math.pi*e_charge**2/(e_mass*c*v)\n",
    "    p2 = 2.**(4*l)/3.\n",
    "    \n",
    "    p3 = l**2 * math.factorial(n+l)\n",
    "    \n",
    "    l = int(l)\n",
    "    \n",
    "    # make sure we're counting for the extreme cases, when l = 0 or 1\n",
    "    if l == 0: \n",
    "        return 0\n",
    "    elif l ==1: \n",
    "        p3 = 1\n",
    "    else:\n",
    "        for i in range(1, l): \n",
    "            p3 *= (i**2 + eta**2)\n",
    "    \n",
    "    # the factorial of a negative number does not exist\n",
    "    if n-l-1<0: \n",
    "        return 0\n",
    "    else:\n",
    "        p4 = math.factorial(2*l+1) *math.factorial(2*l-1) * math.factorial(n-l-1)\n",
    "    \n",
    "    p5 = math.exp(-4*eta*math.atan(1/rho))/(1-math.exp(-2*math.pi*eta))\n",
    "\n",
    "    p6 = rho**(2*l+2)/(1+rho**2)**(2*n-2)\n",
    "    \n",
    "    p7 = (G_l(l,-(l+1-n),eta,rho)-(1+rho**2)**(-2)*G_l(l,-(l-1-n),eta,rho))**2 \n",
    "    \n",
    "    all_together = p1*p2*p3/p4*p5*p6*p7\n",
    "    \n",
    "    return all_together\n",
    "\n",
    "# Quantum cross section going to l+1 (37)\n",
    "def sigma_bf_above(n, l, v, Z): \n",
    "    E = v*h\n",
    "    eta = math.sqrt(Z*Z*R/E)\n",
    "    rho = eta/n\n",
    "    \n",
    "    p1 = math.pi*e_charge**2/(e_mass*c*v)\n",
    "    \n",
    "    p2 = 2.**(4*l+6)/3.\n",
    "    \n",
    "\n",
    "    p3= (l+1)**2 * math.factorial(n+l)\n",
    "\n",
    "    l = int(l)\n",
    "    n = int(n)\n",
    "    \n",
    "    for i in range(1,l+2): \n",
    "        \n",
    "        p3 *= (i**2+eta**2)\n",
    "    \n",
    "    if n-l-1<0: \n",
    "        return 0\n",
    "    else:\n",
    "        p4 = (2*l+1)*math.factorial(2*l+1)*math.factorial(2*l+2)*math.factorial(n-l-1)*((l+1)**2+eta**2)**2\n",
    "    \n",
    "    p5 = math.exp(-4*eta*math.atan(1/rho))/(1-math.exp(-2*math.pi*eta))\n",
    "    \n",
    "    p6 = rho**(2*l+4)*eta**2/(1+rho**2)**(2*n)\n",
    "    \n",
    "    p7 = ((l+1-n)*G_l(l+1,-(l+1-n),eta,rho)+(l+1+n)/(1+rho**2)*G_l(l+1,-(l-n),eta,rho))**2 \n",
    "    \n",
    "    all_together = p1*p2*p3/p4*p5*p6*p7\n",
    "    \n",
    "    return all_together\n",
    "\n",
    "# Bound free matrix element Gl (appendix C)\n",
    "def G_l(l, m, eta, rho): \n",
    "    \n",
    "    m = int(m)\n",
    "    gl = 0\n",
    "    for s in range(0,2*m+1): \n",
    "        gl += b_const(s, l, m, eta, rho)*rho**s\n",
    "    return gl \n",
    "\n",
    "# constant for the Gl free matrix element (Appendix c, eqn c8)\n",
    "def b_const(s, l, m, eta, rho):\n",
    "    \n",
    "    if s==0:\n",
    "        return 1\n",
    "    elif s==1: \n",
    "        return 2*m*eta/l\n",
    "    else:\n",
    "        p1 = (4*eta*(s-1-m))*b_const(s-1, l, m, eta, rho)\n",
    "        p2 = (2*m+2-s)*(2*m+2*l+1-s)*b_const(s-2, l, m,  eta, rho)\n",
    "        return -1./(s*(s+2*l-1))*(p1+p2)\n",
    "    \n",
    "import numpy as np \n",
    "\n",
    "def a_n(v,Z,n): #Matthew and Brown 1970\n",
    "    E = h*v\n",
    "    sigma_weighted = 0\n",
    "    if E < (Z**2 * R / n**2):\n",
    "        return 0.\n",
    "    else:\n",
    "        for l_index in range(int(n)):\n",
    "            sigma_weighted += ((2*l_index) + 1)* total_sigma_bf(v,Z,l_index,n) \n",
    "    return sigma_weighted / (n**2)\n",
    "\n",
    "def gamma_fb(v,Z, n, T): #equation 4.23 of Osterbrock\n",
    "    #v is the frequency\n",
    "    an = a_n(v, Z, n)\n",
    "    part1 = (2/np.pi)**(0.5)*np.exp(((Z**2)*R)/n**2)/((c**2)*((e_mass*k*T)**(3/2)))\n",
    "    part2 = 2*(n**2)*h*((h*v)**3)*an*np.exp((-h*v)/(k*T))\n",
    "    return part1*part2\n",
    "    \n",
    "def emissivity(Np, Ne, gamma): #equation 4.22 of Osterbrock\n",
    "    #Np= number density of protons\n",
    "    Ne=10e-4 #number density of electrons, from table 4.6 of Osterbrock\n",
    "    Jv= Nt*Ne*gamma/ (4.*np.pi)\n",
    "    return Jv\n",
    "\n",
    "def Lyman_C(gamma): #equation from Ono et al. 2010 fig 4 \n",
    "    alpha_b= 1.37e-14 #case B recombination coefficient for hydrogen cm3 s-1 -- table 4.6 in Osterbrock\n",
    "    fesc=0.1 # escape fraction of radiation\n",
    "    Nlyc=1.47234061733e+53 #Number of LyC photons/ s --comes from our pop synthesis model\n",
    "    Lv=gamma * (1-fesc) * Nlyc / alpha_b\n",
    "    return Lv\n",
    "    \n",
    "def summed_emission_coefficient(v, Z, n, T):\n",
    "    gamma_total = 0\n",
    "    for n_index in range(int(n)):\n",
    "        if n_index == 0:\n",
    "            gamma_total+=0\n",
    "        else:\n",
    "            gamma_total+= gamma_fb(v,Z,n_index,T)\n",
    "    return gamma_total\n"
   ]
  },
  {
   "cell_type": "markdown",
   "metadata": {},
   "source": [
    "## Call the functions here"
   ]
  },
  {
   "cell_type": "markdown",
   "metadata": {},
   "source": [
    "A common list of inputs"
   ]
  },
  {
   "cell_type": "code",
   "execution_count": 4,
   "metadata": {
    "collapsed": true
   },
   "outputs": [],
   "source": [
    "# a list of wavelength in micrometers\n",
    "wavelength = np.logspace(-1, 1, 1000)\n",
    "\n",
    "# a corresponding list of frequency in Hz\n",
    "frequency = (c / (wavelength * 10**-4))"
   ]
  },
  {
   "cell_type": "code",
   "execution_count": 5,
   "metadata": {
    "collapsed": true
   },
   "outputs": [],
   "source": [
    "# Bound free \n",
    "\n",
    "#reproducing the final plot\n",
    "\n",
    "# Constants in CGS units: http://www.astro.wisc.edu/~dolan/constants.html, thanks Enia <3\n",
    "R = 2.1798741e-11 # Rydber's constant [erg]\n",
    "c = 2.99792458e10 # speed of light [cm s-1.]\n",
    "e_charge = 4.8032068e-10 # electron charge [esu]\n",
    "e_mass = 9.1093897e-28 # electron mass [g]\n",
    "h = 6.6260755e-27 # planck's constant [erg s]\n",
    "k = 1.380658e-16 #Boltzmann constant [erg K-1]\n",
    "n = 10. \n",
    "l = 0\n",
    "Z = 1.\n",
    "T= 10000. #K\n",
    "\n",
    "y_bf=[]\n",
    "for i in range(len(frequency)):\n",
    "    y_bf.append(frequency[i]*summed_emission_coefficient(frequency[i], Z, n, T))\n",
    "\n",
    "#plt.plot(wavelength, y_bf)\n",
    "#plt.xscale('log')\n",
    "#plt.yscale('log')\n",
    "#plt.ylim(10e-28,10e-26)\n",
    "#plt.xlabel('Wavelength (microns)')\n",
    "#plt.ylabel(r'$\\nu\\gamma_{\\nu} (erg  cm^3  s^{-1})$')\n",
    "#plt.show()"
   ]
  },
  {
   "cell_type": "markdown",
   "metadata": {},
   "source": [
    "Inputs specific to free-free emission"
   ]
  },
  {
   "cell_type": "code",
   "execution_count": 6,
   "metadata": {
    "collapsed": true
   },
   "outputs": [],
   "source": [
    "# Temperature\n",
    "T = 10000"
   ]
  },
  {
   "cell_type": "markdown",
   "metadata": {},
   "source": [
    "Calling free-free emission code"
   ]
  },
  {
   "cell_type": "code",
   "execution_count": 7,
   "metadata": {
    "collapsed": true
   },
   "outputs": [],
   "source": [
    "freefree = gamff(T, wavelength)"
   ]
  },
  {
   "cell_type": "markdown",
   "metadata": {},
   "source": [
    "## Combine outputs here"
   ]
  },
  {
   "cell_type": "code",
   "execution_count": 8,
   "metadata": {},
   "outputs": [
    {
     "name": "stderr",
     "output_type": "stream",
     "text": [
      "/Users/cesar/Documents/cursos/202/projecv_2/ASTR202_final_project/two_photon.py:84: RuntimeWarning: invalid value encountered in power\n",
      "  A = C*(y*(1-(4*y)**gamma)+delta*y**beta*(4*y)**gamma)\n"
     ]
    }
   ],
   "source": [
    "lam_2ph, y_2ph, ynu_2ph = two_ph(T, 1e0) #1 particle/cc\n",
    "ff_bf_comb=[np.pi*4*a+b for a,b in zip(y_bf, freefree)]"
   ]
  },
  {
   "cell_type": "markdown",
   "metadata": {},
   "source": [
    "## Plot here "
   ]
  },
  {
   "cell_type": "code",
   "execution_count": 9,
   "metadata": {},
   "outputs": [
    {
     "data": {
      "image/png": "[encoded data removed]",
      "text/plain": [
       "<matplotlib.figure.Figure at 0x10dbca470>"
      ]
     },
     "metadata": {},
     "output_type": "display_data"
    }
   ],
   "source": [
    "#plt.loglog(wavelength, freefree)\n",
    "\n",
    "# plt.figure(figsize=(7,5))\n",
    "# label axis \n",
    "plt.loglog(lam_2ph,ynu_2ph, basex=10, basey=10)\n",
    "plt.plot(wavelength, ff_bf_comb)\n",
    "plt.xscale('log')\n",
    "plt.yscale('log')\n",
    "plt.ylim(1e-26, 2e-23)\n",
    "plt.xlabel('Wavelength (microns)')\n",
    "plt.ylabel(r'$\\nu\\gamma_{\\nu} (erg \\; cm^3 \\; s^{-1})$')\n",
    "\n",
    "plt.show()"
   ]
  },
  {
   "cell_type": "markdown",
   "metadata": {
    "collapsed": true
   },
   "source": [
    "## Lyman Continuum from parts 2 and 3"
   ]
  },
  {
   "cell_type": "code",
   "execution_count": 10,
   "metadata": {
    "collapsed": true
   },
   "outputs": [],
   "source": [
    "LyC=[]\n",
    "for i in range(len(frequency)):\n",
    "    gamma_total=(ff_bf_comb[i]+y_2ph[i])/frequency[i]\n",
    "    LyC.append(Lyman_C(gamma_total))\n",
    "# print(LyC) #units erg-- this is a luminosity density"
   ]
  },
  {
   "cell_type": "code",
   "execution_count": 11,
   "metadata": {},
   "outputs": [
    {
     "name": "stdout",
     "output_type": "stream",
     "text": [
      "1000\n"
     ]
    }
   ],
   "source": [
    "print (len(LyC*frequency))\n",
    "Lumin = LyC*frequency #ergs/s\n",
    "np.savetxt('LyC.txt',LyC)"
   ]
  },
  {
   "cell_type": "code",
   "execution_count": 12,
   "metadata": {
    "collapsed": true
   },
   "outputs": [],
   "source": [
    "#print (LyC*frequency) #10^40"
   ]
  },
  {
   "cell_type": "code",
   "execution_count": null,
   "metadata": {
    "collapsed": true
   },
   "outputs": [],
   "source": []
  },
  {
   "cell_type": "code",
   "execution_count": 13,
   "metadata": {},
   "outputs": [
    {
     "name": "stdout",
     "output_type": "stream",
     "text": [
      "4.836155312397811e+67\n"
     ]
    }
   ],
   "source": [
    "print(Lyman_C(5))"
   ]
  },
  {
   "cell_type": "code",
   "execution_count": 14,
   "metadata": {},
   "outputs": [
    {
     "data": {
      "text/plain": [
       "7.984592e+28"
      ]
     },
     "execution_count": 14,
     "metadata": {},
     "output_type": "execute_result"
    }
   ],
   "source": [
    "25924*10**6*3.08*10**18\n",
    "#el 25924: z = 3 to Mpc, then 10**6 to pc, then pc to cm\n",
    "#http://www.astro.ucla.edu/~wright/CosmoCalc.html\n",
    "# 10**-29 micro Jansky"
   ]
  },
  {
   "cell_type": "code",
   "execution_count": 15,
   "metadata": {
    "collapsed": true
   },
   "outputs": [],
   "source": [
    "sed2 = (Lumin/(4*np.pi*(25924*10**6*3.08*10**18)**2))/(10**(-29)) #microjanskys"
   ]
  },
  {
   "cell_type": "code",
   "execution_count": 16,
   "metadata": {
    "collapsed": true
   },
   "outputs": [],
   "source": [
    "# print (sed2)\n",
    "# type(LyC)"
   ]
  },
  {
   "cell_type": "code",
   "execution_count": 17,
   "metadata": {},
   "outputs": [
    {
     "name": "stdout",
     "output_type": "stream",
     "text": [
      "1000\n",
      "[  2.69825122e-07   2.87838125e-07   3.06958623e-07   3.27248414e-07\n",
      "   3.48772356e-07   3.71598502e-07   3.95798226e-07   4.21446370e-07\n",
      "   4.48621380e-07   4.77405460e-07   5.07884720e-07   5.40149335e-07\n",
      "   5.74293711e-07   6.10416644e-07   6.48621502e-07   6.89016396e-07\n",
      "   7.31714367e-07   7.76833572e-07   8.24497480e-07   8.74835069e-07\n",
      "   9.27981033e-07   9.84076038e-07   1.04326965e-06   1.10571251e-06\n",
      "   1.17156436e-06   1.24099179e-06   1.31416845e-06   1.39127532e-06\n",
      "   1.47250093e-06   1.55804166e-06   1.64810196e-06   1.74289468e-06\n",
      "   1.84264128e-06   1.94757218e-06   2.05792700e-06   2.17395489e-06\n",
      "   2.29591481e-06   2.42407587e-06   2.55871761e-06   2.70013035e-06\n",
      "   2.84861554e-06   3.00448604e-06   3.16806649e-06   3.33969370e-06\n",
      "   3.51971694e-06   3.70849835e-06   3.90641329e-06   4.11385073e-06\n",
      "   4.33121359e-06   4.55891921e-06   4.79739966e-06   5.04710220e-06\n",
      "   5.30848965e-06   5.58204083e-06   5.86825096e-06   6.16763211e-06\n",
      "   6.48071360e-06   6.80804247e-06   7.15018388e-06   7.50772161e-06\n",
      "   7.88125847e-06   8.27141678e-06   8.67883883e-06   9.10418734e-06\n",
      "   9.54814595e-06   1.00114197e-05   1.04947354e-05   1.09988424e-05\n",
      "   1.15245127e-05   1.20725417e-05   1.26437488e-05   1.32389774e-05\n",
      "   1.38590961e-05   1.45049985e-05   1.51776043e-05   1.58778594e-05\n",
      "   1.66067367e-05   1.73652365e-05   1.81543868e-05   1.89752441e-05\n",
      "   1.98288940e-05   2.07164513e-05   2.16390610e-05   2.25978984e-05\n",
      "   2.35941698e-05   2.46291132e-05   2.57039985e-05   2.68201280e-05\n",
      "   2.79788373e-05   2.91814955e-05   3.04295056e-05   3.17243054e-05\n",
      "   3.30673676e-05   3.44602004e-05   3.59043483e-05   3.74013920e-05\n",
      "   3.89529496e-05   4.05606762e-05   4.22262654e-05   4.39514487e-05\n",
      "   4.57379968e-05   4.75877195e-05   4.95024666e-05   5.14841279e-05\n",
      "   5.35346338e-05   5.56559557e-05   5.78501065e-05   6.01191410e-05\n",
      "   6.24651558e-05   6.48902906e-05   6.73967275e-05   6.99866923e-05\n",
      "   7.26624541e-05   7.54263261e-05   7.82806655e-05   8.12278743e-05\n",
      "   8.42703991e-05   8.74107317e-05   9.06514091e-05   9.39950140e-05\n",
      "   9.74441747e-05   1.01001602e-04   1.04670268e-04   1.08452677e-04\n",
      "   1.12351642e-04   1.16370026e-04   1.20510735e-04   1.24776726e-04\n",
      "   1.29170998e-04   1.33696602e-04   1.38356632e-04   1.43154232e-04\n",
      "   1.48092591e-04   1.53174946e-04   1.58404580e-04   1.63784824e-04\n",
      "   1.69319055e-04   1.75010697e-04   1.80863221e-04   1.86880142e-04\n",
      "   1.93065025e-04   1.99421478e-04   2.05953154e-04   2.12663755e-04\n",
      "   2.19557026e-04   2.26636755e-04   2.33906778e-04   2.41370973e-04\n",
      "   2.49033262e-04   2.56897612e-04   2.64968029e-04   2.73248566e-04\n",
      "   2.81743315e-04   2.90456411e-04   2.99392028e-04   3.08554382e-04\n",
      "   3.17947728e-04   3.27576360e-04   3.37444612e-04   3.47556852e-04\n",
      "   3.57917489e-04   3.68530966e-04   3.79401763e-04   3.90534393e-04\n",
      "   4.01933405e-04   4.13603379e-04   4.25548930e-04   4.37774701e-04\n",
      "   4.50285368e-04   4.63085635e-04   4.76180236e-04   4.89573931e-04\n",
      "   5.03271509e-04   5.17277780e-04   5.31597584e-04   5.46235779e-04\n",
      "   5.61197250e-04   5.76486900e-04   5.92109652e-04   6.08070448e-04\n",
      "   6.24374250e-04   6.41026033e-04   6.58030789e-04   6.75393522e-04\n",
      "   6.93119250e-04   7.11213001e-04   7.29679815e-04   7.48524737e-04\n",
      "   7.67752821e-04   7.87369128e-04   8.07378721e-04   8.27786667e-04\n",
      "   8.48598032e-04   8.69817887e-04   8.91451295e-04   9.13503322e-04\n",
      "   9.35979025e-04   9.58883456e-04   9.82221660e-04   1.00599867e-03\n",
      "   1.03021952e-03   1.05488921e-03   1.08001275e-03   1.10559511e-03\n",
      "   1.13164126e-03   1.15815615e-03   1.18514470e-03   1.21261183e-03\n",
      "   1.24056240e-03   1.26900127e-03   1.29793327e-03   1.32736320e-03\n",
      "   1.35729583e-03   1.38773590e-03   1.41868809e-03   1.45015709e-03\n",
      "   1.48214753e-03   1.51466398e-03   1.54771102e-03   1.58129313e-03\n",
      "   1.61541479e-03   1.65008167e-03   1.68530163e-03   1.72107454e-03\n",
      "   1.75740468e-03   1.79429627e-03   1.83175349e-03   1.86978045e-03\n",
      "   1.90838123e-03   1.94755983e-03   1.98732018e-03   2.02766616e-03\n",
      "   2.06860161e-03   2.11013026e-03   2.15225580e-03   2.19498185e-03\n",
      "   2.23831196e-03   2.28224961e-03   2.32679819e-03   2.37196104e-03\n",
      "   2.41774140e-03   2.46414246e-03   2.51116732e-03   2.55881897e-03\n",
      "   2.60710037e-03   2.65601436e-03   2.70556371e-03   2.75575110e-03\n",
      "   2.80657913e-03   2.85805029e-03   2.91016701e-03   2.96293161e-03\n",
      "   3.01634632e-03   3.07041328e-03   3.12513454e-03   3.18051203e-03\n",
      "   3.23654762e-03   3.29324305e-03   3.35059998e-03   3.40861996e-03\n",
      "   3.46730443e-03   3.52665476e-03   3.58667219e-03   3.64735784e-03\n",
      "   3.70871278e-03   3.77073791e-03   3.83343407e-03   3.89680196e-03\n",
      "   3.96084220e-03   4.02555528e-03   4.09094159e-03   4.15700140e-03\n",
      "   4.22373488e-03   4.29114207e-03   4.35922293e-03   4.42797726e-03\n",
      "   4.49740479e-03   4.56750511e-03   4.63827770e-03   4.70972194e-03\n",
      "   4.78183707e-03   2.95933197e-03   3.00752689e-03   3.05623565e-03\n",
      "   3.10545903e-03   3.15519775e-03   3.20545242e-03   3.25622362e-03\n",
      "   3.30751183e-03   3.35931745e-03   3.41164082e-03   3.46448218e-03\n",
      "   3.51784171e-03   3.57171950e-03   3.62611558e-03   3.68102987e-03\n",
      "   3.73646223e-03   3.79241245e-03   3.84888021e-03   3.90586513e-03\n",
      "   3.96336675e-03   4.02138453e-03   4.07991782e-03   4.13896592e-03\n",
      "   4.19852804e-03   4.25860330e-03   4.31919075e-03   4.38028934e-03\n",
      "   4.44189795e-03   4.50401538e-03   4.56664033e-03   4.62977144e-03\n",
      "   4.69340724e-03   4.75754621e-03   4.82218671e-03   4.88732705e-03\n",
      "   4.95296544e-03   5.01910000e-03   5.08572878e-03   5.15284975e-03\n",
      "   5.22046078e-03   5.28857055e-03   5.35719005e-03   5.42629383e-03\n",
      "   5.49587945e-03   5.56594439e-03   5.63648606e-03   5.70750179e-03\n",
      "   5.77898881e-03   5.85094430e-03   5.92336534e-03   5.99624893e-03\n",
      "   6.06959199e-03   6.14339137e-03   6.21764383e-03   6.29234607e-03\n",
      "   6.36749470e-03   6.44308624e-03   6.51911716e-03   6.59558385e-03\n",
      "   6.67248259e-03   6.74980964e-03   6.82756113e-03   6.90573316e-03\n",
      "   6.98432173e-03   7.06332279e-03   7.14273219e-03   7.22254573e-03\n",
      "   7.30275914e-03   7.38336806e-03   7.46436808e-03   7.54575472e-03\n",
      "   7.62752343e-03   7.70966959e-03   7.79218851e-03   7.87507544e-03\n",
      "   7.95832557e-03   8.04193402e-03   8.12589585e-03   8.21020606e-03\n",
      "   8.29485958e-03   8.37985130e-03   8.46517602e-03   8.55082850e-03\n",
      "   8.63680345e-03   8.72309551e-03   8.80969927e-03   8.89660927e-03\n",
      "   8.98381997e-03   9.07132582e-03   9.15912118e-03   9.24720039e-03\n",
      "   9.33555772e-03   9.42418739e-03   9.51308358e-03   9.60224043e-03\n",
      "   9.69165202e-03   9.78131241e-03   9.87121557e-03   9.96135548e-03\n",
      "   1.00517260e-02   1.01423211e-02   1.02331346e-02   1.03241602e-02\n",
      "   1.04153918e-02   1.05068230e-02   1.05984475e-02   1.06902591e-02\n",
      "   1.07822513e-02   1.08744176e-02   1.09667518e-02   1.10592473e-02\n",
      "   1.11518975e-02   1.12446961e-02   1.13376364e-02   1.14307119e-02\n",
      "   1.15239160e-02   1.16172420e-02   1.17106834e-02   1.18042334e-02\n",
      "   1.18978853e-02   1.19916326e-02   1.20854685e-02   1.21793861e-02\n",
      "   1.22733789e-02   1.23674401e-02   1.24615628e-02   1.25557403e-02\n",
      "   1.26499658e-02   1.27442325e-02   1.28385337e-02   1.29328624e-02\n",
      "   1.30272119e-02   1.31215754e-02   1.32159461e-02   1.33103170e-02\n",
      "   1.34046814e-02   1.34990325e-02   1.35933634e-02   1.36876674e-02\n",
      "   1.37819375e-02   1.38762073e-02   1.39704873e-02   1.40647150e-02\n",
      "   1.41588835e-02   1.42529861e-02   1.43470160e-02   1.44409665e-02\n",
      "   1.45348309e-02   1.46286023e-02   1.47222741e-02   1.48158397e-02\n",
      "   1.49092922e-02   1.50026252e-02   1.50958318e-02   1.51889055e-02\n",
      "   1.52818398e-02   1.53746279e-02   1.54672634e-02   1.55597396e-02\n",
      "   1.56520502e-02   1.57441886e-02   1.58361483e-02   1.59279229e-02\n",
      "   1.60195060e-02   1.61108912e-02   1.62020721e-02   1.62930425e-02\n",
      "   1.63837960e-02   1.64743264e-02   1.65646275e-02   1.66546930e-02\n",
      "   1.67445169e-02   1.68340929e-02   1.69234150e-02   1.70124771e-02\n",
      "   1.71012733e-02   1.21485071e-02   1.22204149e-02   1.22922269e-02\n",
      "   1.23639385e-02   1.24355453e-02   1.25070426e-02   1.25784258e-02\n",
      "   1.26496905e-02   1.27208321e-02   1.27918461e-02   1.28627280e-02\n",
      "   1.29334734e-02   1.30040778e-02   1.30745367e-02   1.31448458e-02\n",
      "   1.32150007e-02   1.32849969e-02   1.33548302e-02   1.34244961e-02\n",
      "   1.34939905e-02   1.35633089e-02   1.36324472e-02   1.37014011e-02\n",
      "   1.37701663e-02   1.38387388e-02   1.39071142e-02   1.39752885e-02\n",
      "   1.40432575e-02   1.41110172e-02   1.41785635e-02   1.42458923e-02\n",
      "   1.43129997e-02   1.43798816e-02   1.44465341e-02   1.45129533e-02\n",
      "   1.45791353e-02   1.46450761e-02   1.47107721e-02   1.47762192e-02\n",
      "   1.48414139e-02   1.49063523e-02   1.49710307e-02   1.50354455e-02\n",
      "   1.50995929e-02   1.51634695e-02   1.52270714e-02   1.52903954e-02\n",
      "   1.53534377e-02   1.54161950e-02   1.54786637e-02   1.55408405e-02\n",
      "   1.56027220e-02   1.56643048e-02   1.57255857e-02   1.57865613e-02\n",
      "   1.58472283e-02   1.59075837e-02   1.59676242e-02   1.60273468e-02\n",
      "   1.60867482e-02   1.61458254e-02   1.62045755e-02   1.62629955e-02\n",
      "   1.63210823e-02   1.63789198e-02   1.64365009e-02   1.64937424e-02\n",
      "   1.65506414e-02   1.66071952e-02   1.66634011e-02   1.67192563e-02\n",
      "   1.67747583e-02   1.68299044e-02   1.68846922e-02   1.69391190e-02\n",
      "   1.69931825e-02   1.70468801e-02   1.71002096e-02   1.71531684e-02\n",
      "   1.72057544e-02   1.72579651e-02   1.73097985e-02   1.73612523e-02\n",
      "   1.74123243e-02   1.74630124e-02   1.75133146e-02   1.75632288e-02\n",
      "   1.76127530e-02   1.76618852e-02   1.77106236e-02   1.77589663e-02\n",
      "   1.78069114e-02   1.78544571e-02   1.79016018e-02   1.79483436e-02\n",
      "   1.79946809e-02   1.80406121e-02   1.80861356e-02   1.81312499e-02\n",
      "   1.81759534e-02   1.82202446e-02   1.82641222e-02   1.83075847e-02\n",
      "   1.83506308e-02   1.83932592e-02   1.84354687e-02   1.84772579e-02\n",
      "   1.85186258e-02   1.85595711e-02   1.86000927e-02   1.86401897e-02\n",
      "   1.86798609e-02   1.87191054e-02   1.87579223e-02   1.87963105e-02\n",
      "   1.88342693e-02   1.88717978e-02   1.89088953e-02   1.89455609e-02\n",
      "   1.89817940e-02   1.90175938e-02   1.90529599e-02   1.90878914e-02\n",
      "   1.91223880e-02   1.91564490e-02   1.45860026e-02   1.46203674e-02\n",
      "   1.46544391e-02   1.46882168e-02   1.47216995e-02   1.47548863e-02\n",
      "   1.47877764e-02   1.48203690e-02   1.48526631e-02   1.48846581e-02\n",
      "   1.49163532e-02   1.49477477e-02   1.49788407e-02   1.50096317e-02\n",
      "   1.50401200e-02   1.50703049e-02   1.51001859e-02   1.51297624e-02\n",
      "   1.51590337e-02   1.51879994e-02   1.52166590e-02   1.52450119e-02\n",
      "   1.52730578e-02   1.53007961e-02   1.53282265e-02   1.53553487e-02\n",
      "   1.53821621e-02   1.54086665e-02   1.54348616e-02   1.54607471e-02\n",
      "   1.54863228e-02   1.55115883e-02   1.55365436e-02   1.55611883e-02\n",
      "   1.55855223e-02   1.56095455e-02   1.56332578e-02   1.56566590e-02\n",
      "   1.56797492e-02   1.57026563e-02   1.57253333e-02   1.57477007e-02\n",
      "   1.57697585e-02   1.57915067e-02   1.58129455e-02   1.58340748e-02\n",
      "   1.58548948e-02   1.58754056e-02   1.58956074e-02   1.59155003e-02\n",
      "   1.59350846e-02   1.59543605e-02   1.59733281e-02   1.59919877e-02\n",
      "   1.60103397e-02   1.60283844e-02   1.60461219e-02   1.60635528e-02\n",
      "   1.60806773e-02   1.60974959e-02   1.61140089e-02   1.61302168e-02\n",
      "   1.61461200e-02   1.61617189e-02   1.61770141e-02   1.61920061e-02\n",
      "   1.62066953e-02   1.62210824e-02   1.62351678e-02   1.62489522e-02\n",
      "   1.62624361e-02   1.62756203e-02   1.62885052e-02   1.63010916e-02\n",
      "   1.63133801e-02   1.63253714e-02   1.63370662e-02   1.63484653e-02\n",
      "   1.63595694e-02   1.63703792e-02   1.63808955e-02   1.63911191e-02\n",
      "   1.64010508e-02   1.64106915e-02   1.64200420e-02   1.64291031e-02\n",
      "   1.64378757e-02   1.64463607e-02   1.64545590e-02   1.64624715e-02\n",
      "   1.64700992e-02   1.64774430e-02   1.64845039e-02   1.64912828e-02\n",
      "   1.64977807e-02   1.65039988e-02   1.65099378e-02   1.31389484e-02\n",
      "   1.31506289e-02   1.31621020e-02   1.31733681e-02   1.31844278e-02\n",
      "   1.31952814e-02   1.32059294e-02   1.32163724e-02   1.32266107e-02\n",
      "   1.32366449e-02   1.32464756e-02   1.32561032e-02   1.32655283e-02\n",
      "   1.32747513e-02   1.32837730e-02   1.32925938e-02              nan\n",
      "              nan              nan              nan              nan\n",
      "              nan              nan              nan              nan\n",
      "              nan              nan              nan              nan\n",
      "              nan              nan              nan              nan\n",
      "              nan              nan              nan              nan\n",
      "              nan              nan              nan              nan\n",
      "              nan              nan              nan              nan\n",
      "              nan              nan              nan              nan\n",
      "              nan              nan              nan              nan\n",
      "              nan              nan              nan              nan\n",
      "              nan              nan              nan              nan\n",
      "              nan              nan              nan              nan\n",
      "              nan              nan              nan              nan\n",
      "              nan              nan              nan              nan\n",
      "              nan              nan              nan              nan\n",
      "              nan              nan              nan              nan\n",
      "              nan              nan              nan              nan\n",
      "              nan              nan              nan              nan\n",
      "              nan              nan              nan              nan\n",
      "              nan              nan              nan              nan\n",
      "              nan              nan              nan              nan\n",
      "              nan              nan              nan              nan\n",
      "              nan              nan              nan              nan\n",
      "              nan              nan              nan              nan\n",
      "              nan              nan              nan              nan\n",
      "              nan              nan              nan              nan\n",
      "              nan              nan              nan              nan\n",
      "              nan              nan              nan              nan\n",
      "              nan              nan              nan              nan\n",
      "              nan              nan              nan              nan\n",
      "              nan              nan              nan              nan\n",
      "              nan              nan              nan              nan\n",
      "              nan              nan              nan              nan\n",
      "              nan              nan              nan              nan\n",
      "              nan              nan              nan              nan\n",
      "              nan              nan              nan              nan\n",
      "              nan              nan              nan              nan\n",
      "              nan              nan              nan              nan\n",
      "              nan              nan              nan              nan\n",
      "              nan              nan              nan              nan\n",
      "              nan              nan              nan              nan\n",
      "              nan              nan              nan              nan\n",
      "              nan              nan              nan              nan\n",
      "              nan              nan              nan              nan\n",
      "              nan              nan              nan              nan\n",
      "              nan              nan              nan              nan\n",
      "              nan              nan              nan              nan\n",
      "              nan              nan              nan              nan\n",
      "              nan              nan              nan              nan\n",
      "              nan              nan              nan              nan\n",
      "              nan              nan              nan              nan\n",
      "              nan              nan              nan              nan\n",
      "              nan              nan              nan              nan\n",
      "              nan              nan              nan              nan\n",
      "              nan              nan              nan              nan\n",
      "              nan              nan              nan              nan\n",
      "              nan              nan              nan              nan\n",
      "              nan              nan              nan              nan\n",
      "              nan              nan              nan              nan\n",
      "              nan              nan              nan              nan\n",
      "              nan              nan              nan              nan\n",
      "              nan              nan              nan              nan\n",
      "              nan              nan              nan              nan\n",
      "              nan              nan              nan              nan\n",
      "              nan              nan              nan              nan\n",
      "              nan              nan              nan              nan\n",
      "              nan              nan              nan              nan\n",
      "              nan              nan              nan              nan\n",
      "              nan              nan              nan              nan\n",
      "              nan              nan              nan              nan\n",
      "              nan              nan              nan              nan\n",
      "              nan              nan              nan              nan\n",
      "              nan              nan              nan              nan\n",
      "              nan              nan              nan              nan\n",
      "              nan              nan              nan              nan\n",
      "              nan              nan              nan              nan]\n"
     ]
    }
   ],
   "source": [
    "sed3 = (np.array(LyC)/(4*np.pi*(25924*10**6*3.08*10**18)**2))/(10**(-29)) #microjanskys\n",
    "print (len(sed3))\n",
    "print (sed3)\n",
    "# np.argwhere(np.isnan(sed3))"
   ]
  },
  {
   "cell_type": "code",
   "execution_count": 18,
   "metadata": {},
   "outputs": [
    {
     "name": "stdout",
     "output_type": "stream",
     "text": [
      "695\n"
     ]
    }
   ],
   "source": [
    "# print (sed3)\n",
    "sed3_cut = sed3[:695]\n",
    "# print (sed3_cut)\n",
    "wavelength_cut = wavelength[:695]\n",
    "wavelength_angs = wavelength_cut*10**4\n",
    "print (len(wavelength_angs))"
   ]
  },
  {
   "cell_type": "code",
   "execution_count": 19,
   "metadata": {},
   "outputs": [
    {
     "data": {
      "image/png": "[encoded data removed]",
      "text/plain": [
       "<matplotlib.figure.Figure at 0x1113e5208>"
      ]
     },
     "metadata": {},
     "output_type": "display_data"
    }
   ],
   "source": [
    "plt.plot(wavelength_angs,sed3_cut)\n",
    "plt.show()"
   ]
  },
  {
   "cell_type": "code",
   "execution_count": 20,
   "metadata": {},
   "outputs": [
    {
     "name": "stdout",
     "output_type": "stream",
     "text": [
      "24512.6006203\n"
     ]
    }
   ],
   "source": [
    "# print (wavelength)\n",
    "print (np.max(wavelength_angs))\n",
    "# print (wavelength)"
   ]
  },
  {
   "cell_type": "code",
   "execution_count": 21,
   "metadata": {},
   "outputs": [
    {
     "name": "stdout",
     "output_type": "stream",
     "text": [
      "695\n"
     ]
    }
   ],
   "source": [
    "print (len(wavelength_angs))"
   ]
  },
  {
   "cell_type": "code",
   "execution_count": 22,
   "metadata": {
    "collapsed": true
   },
   "outputs": [],
   "source": [
    "sed = np.loadtxt('sed.txt')"
   ]
  },
  {
   "cell_type": "code",
   "execution_count": 23,
   "metadata": {},
   "outputs": [
    {
     "data": {
      "image/png": "[encoded data removed]",
      "text/plain": [
       "<matplotlib.figure.Figure at 0x1113ee278>"
      ]
     },
     "metadata": {},
     "output_type": "display_data"
    }
   ],
   "source": [
    "plt.loglog(wavelength_angs,sed3_cut,label='nebular continuum')\n",
    "plt.show()"
   ]
  },
  {
   "cell_type": "code",
   "execution_count": 29,
   "metadata": {},
   "outputs": [
    {
     "data": {
      "image/png": "[encoded data removed]",
      "text/plain": [
       "<matplotlib.figure.Figure at 0x111787a58>"
      ]
     },
     "metadata": {},
     "output_type": "display_data"
    }
   ],
   "source": [
    "wave_z3 = np.loadtxt('lamb.txt')\n",
    "wave5,flux5 = np.loadtxt('line_flux.txt',unpack=True,usecols=(0,1))\n",
    "plt.plot(wave5,flux5,label='emission lines')\n",
    "plt.loglog(wavelength_angs,sed3_cut,label='nebular continuum')\n",
    "plt.loglog(wave_z3[np.where((wave_z3 >= 500) & (wave_z3 <= 60000))], \n",
    "         sed[np.where((wave_z3 >= 500) & (wave_z3 <= 60000))],label = 'stellar SED')\n",
    "plt.xlabel(r\"Wavelength ($\\AA$)\")\n",
    "plt.ylim(10e-10)\n",
    "plt.ylabel(r\"Flux density ($F_{\\nu}$  [$\\mu$Jy])\")\n",
    "plt.xscale('log')\n",
    "plt.yscale('log')\n",
    "\n",
    "plt.minorticks_on()\n",
    "plt.legend()\n",
    "plt.show()"
   ]
  },
  {
   "cell_type": "code",
   "execution_count": null,
   "metadata": {
    "collapsed": true
   },
   "outputs": [],
   "source": []
  },
  {
   "cell_type": "code",
   "execution_count": 27,
   "metadata": {},
   "outputs": [
    {
     "data": {
      "image/png": "[encoded data removed]",
      "text/plain": [
       "<matplotlib.figure.Figure at 0x1113fec18>"
      ]
     },
     "metadata": {},
     "output_type": "display_data"
    }
   ],
   "source": [
    "mask1 = np.where((wavelength_angs >= 500) & (wavelength_angs <= 24500))\n",
    "resultini = sed3_cut[mask1]+sed[mask1]\n",
    "#print (len(sed3_cut[mask1]))\n",
    "#print (len(sed3[mask1]))\n",
    "\n",
    "plt.loglog(wavelength_angs[mask1],resultini,label='sum')\n",
    "plt.loglog(wavelength_angs,sed3_cut,label='nebular continuum')\n",
    "plt.loglog(wave_z3[np.where((wave_z3 >= 500) & (wave_z3 <= 60000))], \n",
    "         sed[np.where((wave_z3 >= 500) & (wave_z3 <= 60000))],label = 'stellar SED')\n",
    "plt.xlabel(r\"Wavelength ($\\AA$)\")\n",
    "plt.ylim(10e-10)\n",
    "plt.ylabel(r\"Flux density ($F_{\\nu}$  [$\\mu$Jy])\")\n",
    "plt.minorticks_on()\n",
    "plt.legend()\n",
    "plt.show()"
   ]
  },
  {
   "cell_type": "code",
   "execution_count": 28,
   "metadata": {},
   "outputs": [
    {
     "name": "stdout",
     "output_type": "stream",
     "text": [
      "[  8.09475367e-24   8.55589741e-24   9.04051321e-24   9.54963545e-24\n",
      "   1.00843357e-23   1.06457237e-23   1.12349482e-23   1.18531981e-23\n",
      "   1.25017034e-23   1.31817357e-23   1.38946100e-23   1.46416849e-23\n",
      "   1.54243640e-23   1.62440968e-23   1.71023795e-23   1.80007563e-23\n",
      "   1.89408198e-23   1.99242129e-23   2.09526286e-23   2.20278121e-23\n",
      "   2.31515608e-23   2.43257269e-23   2.55522848e-23   2.68331331e-23\n",
      "   2.81702895e-23   2.95658292e-23   3.10218854e-23   3.25406503e-23\n",
      "   3.41243762e-23   3.57753757e-23   3.74960233e-23   3.92887556e-23\n",
      "   4.11560724e-23   4.31005374e-23   4.51247786e-23   4.72314896e-23\n",
      "   4.94234297e-23   5.17034251e-23   5.40743690e-23   5.65392222e-23\n",
      "   5.91010142e-23   6.17628432e-23   6.45278767e-23   6.73993518e-23\n",
      "   7.03805761e-23   7.34749273e-23   7.66858543e-23   8.00168767e-23\n",
      "   8.34715857e-23   8.70536439e-23   9.07667854e-23   9.46148161e-23\n",
      "   9.86016134e-23   1.02731127e-22   1.07007377e-22   1.11434455e-22\n",
      "   1.16016527e-22   1.20757825e-22   1.25662656e-22   1.30735394e-22\n",
      "   1.35980485e-22   1.41402444e-22   1.47005854e-22   1.52795371e-22\n",
      "   1.58775706e-22   1.64951705e-22   1.71328374e-22   1.77910906e-22\n",
      "   1.84704374e-22   1.91723285e-22   1.98976466e-22   2.06440313e-22\n",
      "   2.14156790e-22   2.22072823e-22   2.30862605e-22   2.39265013e-22\n",
      "   2.49537172e-22   2.58230861e-22   2.70303629e-22   2.85015244e-22\n",
      "   2.92523708e-22   3.12311385e-22   3.29454298e-22   3.41631128e-22\n",
      "   3.29904668e-22   3.43636833e-22   4.10389897e-22   4.43551609e-22\n",
      "   4.46732271e-22   5.56951493e-22   5.24407029e-22   6.25520453e-22\n",
      "   5.82912955e-22   6.02789853e-22   7.10664805e-22   8.15203126e-22\n",
      "   7.38867915e-22   7.10401294e-22   9.96490022e-22   1.03900181e-21\n",
      "   1.06668841e-21   1.12725404e-21   1.53424944e-21   1.56465460e-21\n",
      "   1.72131494e-21   1.61010128e-21   1.70983447e-21   2.40032444e-21\n",
      "   2.43730139e-21   1.02292411e-21   3.14439301e-21   3.72956415e-21\n",
      "   4.00172682e-21   4.93370144e-21   4.19413744e-21   5.75261594e-21\n",
      "   6.28877821e-21   7.89165839e-21   9.95478988e-21   1.21979785e-20\n",
      "   1.49953133e-20   1.73435647e-20   5.98454627e-20   7.88321758e-20\n",
      "   1.31695243e-19   1.67036086e-19   1.13677688e-19   1.75360895e-19\n",
      "   8.63636949e-20   9.81476336e-20   1.28010610e-19   1.98920939e-19\n",
      "   1.73485337e-19   1.26739632e-19   1.58922708e-19   2.63873718e-19\n",
      "   2.54061541e-19   2.49539672e-19   2.55970049e-19   1.87408610e-19\n",
      "   2.52752683e-19   2.31157369e-19   1.79682990e-19   1.53051382e-19\n",
      "   2.17826547e-19   1.84484622e-19   2.12026520e-19   2.21047546e-19\n",
      "   1.24933959e-19   1.89361976e-19   1.99163856e-19   1.75325978e-19\n",
      "   1.33069923e-19   2.51620861e-19   2.70612797e-19   3.30562904e-19\n",
      "   3.26332161e-19   3.18173513e-19   3.48691110e-19   3.47982170e-19\n",
      "   2.83011707e-19   3.18025676e-19   3.21145491e-19   2.92542711e-19\n",
      "   2.80034772e-19   3.40663928e-19   2.90637970e-19   2.83651736e-19\n",
      "   2.90289437e-19   2.45911847e-19   2.55670034e-19   3.14880109e-19\n",
      "   2.82315412e-19   2.70606972e-19   2.77955588e-19   2.91710029e-19\n",
      "   2.96866270e-19   2.72055827e-19   2.65418138e-19   2.79872973e-19\n",
      "   2.70617110e-19   2.81971305e-19   2.46987996e-19   2.25605054e-19\n",
      "   2.49742442e-19   2.30988540e-19   1.88804669e-19   1.42182556e-19\n",
      "   2.70190393e-19   2.12735336e-19   2.03874381e-19   2.13633148e-19\n",
      "   2.32740528e-19   2.41333331e-19   2.37765268e-19   2.33037868e-19\n",
      "   2.14410911e-19   2.25726504e-19   2.29470961e-19   2.14355187e-19\n",
      "   1.99575406e-19   2.15448790e-19   2.43002772e-19   2.16741693e-19\n",
      "   2.21440755e-19   1.95286440e-19   1.90943474e-19   2.20453288e-19\n",
      "   1.96506147e-19   2.27672590e-19   2.15085107e-19   1.96351654e-19\n",
      "   2.05191898e-19   2.21507107e-19   2.05265966e-19   2.04039647e-19\n",
      "   1.97179278e-19   2.01410012e-19   1.84868502e-19   1.84476347e-19\n",
      "   1.84597533e-19   1.98755011e-19   1.71424663e-19   1.66864516e-19\n",
      "   1.91052855e-19   1.75519465e-19   1.73575621e-19   1.85421419e-19\n",
      "   1.85561878e-19   1.60502020e-19   1.85060255e-19   1.81925209e-19\n",
      "   1.72942266e-19   1.74129764e-19   1.71159889e-19   1.73760570e-19\n",
      "   1.76178480e-19   1.57305685e-19   1.65755250e-19   1.66330638e-19\n",
      "   1.63702808e-19   1.72290656e-19   1.53241821e-19   1.54499222e-19\n",
      "   1.58125476e-19   1.62251075e-19   1.54208368e-19   1.62675629e-19\n",
      "   1.56361985e-19   1.55840551e-19   1.58186643e-19   1.55367517e-19\n",
      "   1.53534982e-19   1.50354429e-19   1.52878870e-19   1.49962112e-19\n",
      "   1.45766425e-19   1.42332153e-19   1.45289588e-19   1.41621071e-19\n",
      "   1.38242347e-19   1.38995276e-19   1.39520349e-19   1.39735152e-19\n",
      "   1.33846895e-19   1.34757028e-19   1.30508806e-19   1.16200196e-19\n",
      "   1.25111899e-19   1.23099100e-19   1.25570585e-19   1.21073011e-19\n",
      "   1.21327367e-19   1.17190752e-19   1.19550584e-19   1.16387798e-19\n",
      "   1.16604838e-19   1.17895669e-19   1.14583954e-19   1.16569740e-19\n",
      "   1.15066125e-19   1.09600757e-19   1.07060033e-19   1.08172265e-19\n",
      "   1.03395288e-19   1.07700951e-19   1.02482795e-19   1.03662458e-19\n",
      "   1.00599945e-19   9.99407460e-20   9.83714577e-20   9.99191560e-20\n",
      "   9.86644082e-20   1.00282290e-19   9.91953103e-20   9.81353553e-20\n",
      "   9.59520759e-20   9.49723997e-20   9.54616172e-20   9.51554523e-20\n",
      "   9.72797031e-20   9.65251273e-20   9.27955922e-20   9.37576795e-20\n",
      "   9.27673929e-20   9.05849301e-20   9.05201446e-20   8.84606092e-20\n",
      "   8.79464077e-20   8.90739199e-20   8.41163809e-20   8.37857085e-20\n",
      "   8.41618714e-20   8.51670615e-20   8.36477132e-20   7.66537292e-20\n",
      "   7.84749926e-20   8.27176437e-20   8.25169009e-20   8.02640833e-20\n",
      "   7.92128101e-20   7.82903630e-20   7.94666188e-20   7.82916980e-20\n",
      "   7.79706169e-20   7.69130407e-20   7.81686683e-20   7.66754769e-20\n",
      "   7.56804214e-20   7.54780649e-20   7.49916185e-20   7.46178234e-20\n",
      "   7.40990470e-20   7.34374407e-20   7.26931830e-20   7.22361318e-20\n",
      "   7.14053295e-20   7.06846131e-20   7.03467212e-20   6.96018705e-20\n",
      "   6.80110733e-20   6.83011137e-20   6.70990642e-20   6.71497663e-20\n",
      "   6.69779473e-20   6.63971699e-20   6.59460860e-20   6.52539610e-20\n",
      "   6.43635931e-20   6.34900050e-20   6.30240399e-20   6.27923493e-20\n",
      "   6.21668026e-20   6.18114471e-20   6.12546246e-20   6.08726845e-20\n",
      "   6.07471675e-20   6.00681539e-20   5.99154005e-20   5.86051378e-20\n",
      "   5.80089522e-20   5.97358321e-20   5.87391510e-20   5.77915454e-20\n",
      "   5.71875968e-20   5.67458387e-20   5.64151221e-20   5.61550534e-20\n",
      "   5.56892065e-20   5.48649293e-20   5.40328705e-20   5.35433562e-20\n",
      "   5.32803146e-20   5.28828157e-20   5.21997602e-20   5.16713440e-20\n",
      "   5.16573091e-20   5.18363109e-20   5.16979873e-20   5.10509424e-20\n",
      "   5.01822110e-20   4.95132279e-20   4.92349647e-20   4.91939847e-20\n",
      "   4.91112700e-20   4.88765757e-20   4.84866615e-20   4.81810598e-20\n",
      "   4.81698235e-20   4.82033967e-20   4.79096281e-20   4.74526557e-20\n",
      "   4.69753703e-20   4.61725398e-20   4.50825217e-20   4.43026341e-20\n",
      "   4.40525378e-20   4.37864404e-20   4.33842708e-20   4.32612015e-20\n",
      "   4.32862549e-20   4.32369135e-20   4.31195290e-20   4.29594110e-20\n",
      "   4.26934417e-20   4.22776896e-20   4.18334964e-20   4.14179976e-20\n",
      "   4.10029507e-20   4.05657780e-20   4.02196289e-20   3.99666870e-20\n",
      "   4.05503976e-20   4.04716450e-20   4.01274331e-20   3.97851733e-20\n",
      "   3.95426502e-20   3.93433982e-20   3.91958768e-20   3.90406841e-20\n",
      "   3.87764009e-20   3.84781291e-20   3.82723498e-20   3.81043179e-20\n",
      "   3.79081929e-20   3.76511761e-20   3.73522713e-20   3.70679988e-20\n",
      "   3.67433038e-20   3.63355547e-20   3.59063102e-20   3.55768721e-20\n",
      "   3.54291924e-20   3.52485087e-20   3.49649688e-20   3.47149156e-20\n",
      "   3.43882615e-20   3.39580002e-20   3.36926753e-20   3.36149139e-20\n",
      "   3.35133800e-20   3.32744618e-20   3.29786957e-20   3.27442966e-20\n",
      "   3.24376731e-20   3.19624446e-20   3.14798531e-20   3.11396734e-20\n",
      "   3.09155988e-20   3.07663428e-20   3.06414486e-20   3.04320905e-20\n",
      "   3.02163542e-20   3.00300152e-20   2.96812330e-20   2.92187024e-20\n",
      "   2.88033672e-20   2.64067474e-20   2.65423452e-20   2.66285868e-20\n",
      "   2.64002948e-20   2.60116401e-20   2.57964645e-20   2.58017967e-20\n",
      "   2.58121900e-20   2.56379266e-20   2.51376896e-20   2.44383951e-20\n",
      "   2.40133781e-20   2.42331875e-20   2.47885498e-20   2.50674989e-20\n",
      "   2.48335631e-20   2.41212069e-20   2.30851902e-20   2.20795717e-20\n",
      "   2.15609544e-20   2.17529492e-20   2.24441531e-20   2.30735308e-20\n",
      "   2.31714797e-20   2.26987828e-20   2.18825835e-20   2.09602852e-20\n",
      "   2.02711058e-20   2.02458831e-20   2.09114673e-20   2.17193367e-20\n",
      "   2.22448718e-20   2.25148467e-20   2.24846804e-20   2.19965828e-20\n",
      "   2.10775716e-20   1.98977012e-20   1.87082969e-20   1.78727267e-20\n",
      "   1.77984658e-20   1.84773017e-20   1.94350519e-20   2.02438564e-20\n",
      "   2.06727673e-20   2.07058367e-20   2.06692671e-20   2.06693417e-20\n",
      "   2.03826788e-20   1.96855722e-20   1.87163008e-20   1.75568009e-20\n",
      "   1.63819412e-20   1.56153995e-20   1.55948577e-20   1.61872692e-20\n",
      "   1.69916735e-20   1.78276471e-20   1.85904202e-20   1.91435405e-20\n",
      "   1.94128681e-20   1.94064581e-20   1.91904060e-20   1.88607482e-20\n",
      "   1.84642204e-20   1.79180979e-20   1.72093185e-20   1.64266079e-20\n",
      "   1.55200294e-20   1.44557362e-20   1.35666290e-20   1.33001490e-20\n",
      "   1.37538578e-20   1.45538505e-20   1.53324147e-20   1.59726699e-20\n",
      "   1.64790055e-20   1.68095676e-20   1.68553710e-20   1.66875116e-20\n",
      "   1.65300438e-20   1.64943086e-20   1.64910744e-20   1.64130221e-20\n",
      "   1.62876240e-20   1.60879868e-20   1.57974011e-20   1.54571756e-20\n",
      "   1.49885143e-20   1.43332998e-20   1.36140018e-20   1.28791283e-20\n",
      "   1.20937025e-20   1.14257258e-20   1.12712201e-20   1.16986618e-20\n",
      "   1.23825151e-20   1.29914319e-20   1.34393512e-20   1.37851674e-20\n",
      "   1.40944457e-20   1.43253478e-20   1.44680820e-20   1.46129084e-20\n",
      "   1.47499748e-20   1.47846419e-20   1.47151367e-20   1.46140079e-20\n",
      "   1.45350382e-20   1.44326389e-20   1.42078846e-20   1.39087635e-20\n",
      "   1.36590066e-20   1.34414290e-20   1.31905169e-20   1.29153810e-20\n",
      "   1.26386877e-20   1.23085041e-20   1.18779476e-20   1.13654884e-20\n",
      "   1.07934928e-20   1.01704755e-20   9.50032787e-21   8.87974642e-21\n",
      "   8.57066712e-21   8.75812074e-21   8.64208309e-21   9.21576194e-21\n",
      "   9.68355469e-21   1.00698215e-20   1.03721055e-20   1.05568244e-20\n",
      "   1.06373128e-20   1.06461770e-20   1.06848124e-20   1.08018641e-20\n",
      "   1.09356878e-20   1.10306705e-20   1.10467901e-20   1.09762217e-20\n",
      "   1.08222925e-20   1.06268737e-20   1.04633711e-20   1.03599701e-20\n",
      "   1.02944316e-20   1.02176095e-20   1.00224083e-20   9.65732372e-21\n",
      "   9.30433159e-21   9.23126535e-21   9.40529887e-21   9.54985668e-21\n",
      "   9.49069746e-21   9.26336985e-21   9.02300091e-21   8.83122663e-21\n",
      "   8.64954924e-21   8.44123524e-21   8.20330934e-21   7.93980018e-21\n",
      "   7.64005510e-21   7.27533241e-21   6.83893006e-21   6.37124811e-21\n",
      "   5.91696294e-21   5.57747628e-21   5.51827604e-21   5.73843215e-21\n",
      "   6.06684108e-21   6.37476753e-21   6.64347919e-21   6.88695759e-21\n",
      "   7.11466652e-21   7.30011268e-21   7.42337700e-21   7.49471221e-21\n",
      "   7.53578956e-21   7.56102811e-21   7.59740713e-21   7.62865356e-21\n",
      "   7.60548830e-21   7.54662136e-21   7.52782935e-21   7.56046012e-21\n",
      "   7.56024530e-21   7.49476828e-21   7.40764367e-21   7.30041292e-21\n",
      "   7.18806246e-21   7.16508190e-21   7.21208268e-21   7.19479527e-21\n",
      "   7.11995949e-21   7.07000283e-21   7.03486299e-21   6.96483187e-21\n",
      "   6.89908845e-21   6.87601626e-21   6.84340305e-21   6.76521035e-21\n",
      "   6.66398517e-21   6.57535281e-21   6.52645785e-21   6.49297114e-21\n",
      "   6.42198371e-21   6.28250122e-21   6.11157130e-21   5.99811818e-21\n",
      "   5.97323270e-21   5.96787050e-21   5.91037199e-21   5.79514404e-21\n",
      "   5.64233929e-21   5.48332128e-21   5.37540484e-21   5.30861311e-21\n",
      "   5.19980096e-21   5.02751604e-21   4.84915005e-21   4.69274954e-21\n",
      "   4.51079823e-21   4.26308651e-21   3.98163592e-21   3.50719464e-21\n",
      "   3.24679673e-21   3.07690162e-21   3.09445107e-21   3.28291523e-21\n",
      "   3.52436536e-21   3.72844121e-21   3.87721456e-21   3.98181290e-21\n",
      "   4.06233100e-21   4.14250023e-21   4.21495875e-21   4.25294175e-21\n",
      "   4.26168507e-21   4.26893709e-21]\n"
     ]
    }
   ],
   "source": [
    "result = resultini*(10**(-29))*(3*10**18)/wavelength_angs[mask1]**2\n",
    "print (result)\n",
    "# np.savetxt('kindoffinalsed.txt',np.c_[wavelength[mask1],result],delimiter=\" \" , newline=\"\\n\")\n",
    "# np.savetxt(“wave_spec.txt”, np.c_[wavecut,sedcut], delimiter=” “, newline=‘\\n’)"
   ]
  },
  {
   "cell_type": "code",
   "execution_count": null,
   "metadata": {
    "collapsed": true
   },
   "outputs": [],
   "source": []
  },
  {
   "cell_type": "code",
   "execution_count": null,
   "metadata": {
    "collapsed": true
   },
   "outputs": [],
   "source": []
  },
  {
   "cell_type": "code",
   "execution_count": null,
   "metadata": {
    "collapsed": true
   },
   "outputs": [],
   "source": []
  },
  {
   "cell_type": "code",
   "execution_count": 237,
   "metadata": {
    "collapsed": true
   },
   "outputs": [],
   "source": []
  },
  {
   "cell_type": "code",
   "execution_count": 239,
   "metadata": {},
   "outputs": [
    {
     "name": "stdout",
     "output_type": "stream",
     "text": [
      "<class 'list'>\n"
     ]
    }
   ],
   "source": []
  },
  {
   "cell_type": "code",
   "execution_count": null,
   "metadata": {
    "collapsed": true
   },
   "outputs": [],
   "source": []
  }
 ],
 "metadata": {
  "kernelspec": {
   "display_name": "Python 3",
   "language": "python",
   "name": "python3"
  },
  "language_info": {
   "codemirror_mode": {
    "name": "ipython",
    "version": 3
   },
   "file_extension": ".py",
   "mimetype": "text/x-python",
   "name": "python",
   "nbconvert_exporter": "python",
   "pygments_lexer": "ipython3",
   "version": "3.5.3"
  }
 },
 "nbformat": 4,
 "nbformat_minor": 2
}
