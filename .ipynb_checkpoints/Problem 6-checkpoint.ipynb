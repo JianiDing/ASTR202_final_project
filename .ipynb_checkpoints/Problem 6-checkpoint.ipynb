{
 "cells": [
  {
   "cell_type": "markdown",
   "metadata": {},
   "source": [
    "# Problem 6 Joint Notebook"
   ]
  },
  {
   "cell_type": "markdown",
   "metadata": {},
   "source": [
    "## Imports go here"
   ]
  },
  {
   "cell_type": "markdown",
   "metadata": {},
   "source": [
    "Imports for Problem 2, free-free emission"
   ]
  },
  {
   "cell_type": "code",
   "execution_count": 1,
   "metadata": {
    "collapsed": true
   },
   "outputs": [],
   "source": [
    "import matplotlib.pylab as plt\n",
    "import numpy as np\n",
    "from scipy import interpolate"
   ]
  },
  {
   "cell_type": "markdown",
   "metadata": {},
   "source": [
    "## Generate functions here "
   ]
  },
  {
   "cell_type": "markdown",
   "metadata": {},
   "source": [
    "Code for Problem 2, free-free emission  \n",
    "Make sure gauntff_noerr.dat is in a place where this notebook can grab it!!!"
   ]
  },
  {
   "cell_type": "code",
   "execution_count": 2,
   "metadata": {
    "collapsed": true
   },
   "outputs": [],
   "source": [
    "### Interpolation of free-free gaunt factor ###\n",
    "\n",
    "# read in the data table for free free gaunt factor\n",
    "# this is basically our 'z' data\n",
    "g_table = 'gauntff_noerr.dat'\n",
    "g_data = np.loadtxt(g_table, skiprows=42) # skipping the header\n",
    "\n",
    "# follow the header to get log(u) and log(gam2) values for\n",
    "# interpolation   \n",
    "g_logu = np.arange(-16, 13.2, 0.2)\n",
    "g_loggam2 = np.arange(-6, 10.2, 0.2)\n",
    "\n",
    "# create the interpolation\n",
    "g_interp = interpolate.interp2d(g_loggam2, g_logu, g_data)\n",
    "\n",
    "### Evaluation of formula ###\n",
    "\n",
    "# fundamental constants\n",
    "Ry = 2.17987e-11 # erg\n",
    "h = 6.62606885e-27 # erg * s\n",
    "k = 1.3807e-16 # erg * k^-1\n",
    "c = 2.998e10 # cm / s\n",
    "\n",
    "# get gam2 and u in terms of T and nu\n",
    "gam2 = lambda T: Ry/(k * T)\n",
    "u = lambda T, nu: (h * nu) / (k * T)\n",
    "\n",
    "# main function to be evaluated \n",
    "\n",
    "def gamff (T, lamb):\n",
    "    # convert a wavelength (lamb) in micrometers to a frequency\n",
    "    nu = (c / (lamb * 10**-4))\n",
    "    \n",
    "    # interpolate the gaunt factor\n",
    "    gff = g_interp(np.log10(gam2(T)),np.log10(u(T, nu)))\n",
    "    \n",
    "    # transpose the matrix. This is just for consistensy sake with the \n",
    "    # horizontal inputs \n",
    "    gff = np.resize(gff, (1000,))\n",
    "    \n",
    "    # evaluate the function \n",
    "    output = 5.44 * 10**(-39) * (4*np.pi) * (T**(-1/2)) * gff * np.exp(-h * nu/(k * T)) * nu\n",
    "    return output"
   ]
  },
  {
   "cell_type": "markdown",
   "metadata": {},
   "source": [
    "## Call the functions here"
   ]
  },
  {
   "cell_type": "code",
   "execution_count": null,
   "metadata": {
    "collapsed": true
   },
   "outputs": [],
   "source": []
  },
  {
   "cell_type": "markdown",
   "metadata": {},
   "source": [
    "## Combine outputs here"
   ]
  },
  {
   "cell_type": "code",
   "execution_count": null,
   "metadata": {
    "collapsed": true
   },
   "outputs": [],
   "source": []
  },
  {
   "cell_type": "markdown",
   "metadata": {},
   "source": [
    "## Plot here "
   ]
  },
  {
   "cell_type": "code",
   "execution_count": null,
   "metadata": {
    "collapsed": true
   },
   "outputs": [],
   "source": []
  }
 ],
 "metadata": {
  "kernelspec": {
   "display_name": "Python 3",
   "language": "python",
   "name": "python3"
  },
  "language_info": {
   "codemirror_mode": {
    "name": "ipython",
    "version": 3
   },
   "file_extension": ".py",
   "mimetype": "text/x-python",
   "name": "python",
   "nbconvert_exporter": "python",
   "pygments_lexer": "ipython3",
   "version": "3.6.0"
  }
 },
 "nbformat": 4,
 "nbformat_minor": 2
}
